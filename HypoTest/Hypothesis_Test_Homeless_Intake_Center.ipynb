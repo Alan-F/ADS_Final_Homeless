{
 "cells": [
  {
   "cell_type": "markdown",
   "metadata": {},
   "source": [
    "### Data"
   ]
  },
  {
   "cell_type": "markdown",
   "metadata": {},
   "source": [
    "1. 311_2015.csv -- Herni uploaded in slack\n",
    "2. ct_shape.shp -- The One we used in PUI_HW10 to calculate the area of NYC.\n",
    "3. Location of Dropin centers are input manually."
   ]
  },
  {
   "cell_type": "code",
   "execution_count": 3,
   "metadata": {
    "collapsed": false
   },
   "outputs": [
    {
     "name": "stdout",
     "output_type": "stream",
     "text": [
      "Populating the interactive namespace from numpy and matplotlib\n"
     ]
    }
   ],
   "source": [
    "import pandas as pd\n",
    "import geopandas as gpd\n",
    "import numpy as np\n",
    "from shapely.geometry import Point, Polygon\n",
    "import pylab as pl\n",
    "%pylab inline\n",
    "import rtree\n",
    "import scipy.stats as stats\n",
    "from fiona.crs import from_epsg"
   ]
  },
  {
   "cell_type": "markdown",
   "metadata": {},
   "source": [
    "### 1.Read CSV File"
   ]
  },
  {
   "cell_type": "code",
   "execution_count": 2,
   "metadata": {
    "collapsed": false
   },
   "outputs": [
    {
     "name": "stdout",
     "output_type": "stream",
     "text": [
      "(11764, 7)\n"
     ]
    },
    {
     "data": {
      "text/html": [
       "<div>\n",
       "<table border=\"1\" class=\"dataframe\">\n",
       "  <thead>\n",
       "    <tr style=\"text-align: right;\">\n",
       "      <th></th>\n",
       "      <th>Unnamed: 0</th>\n",
       "      <th>Unique Key</th>\n",
       "      <th>Created Date</th>\n",
       "      <th>Incident Zip</th>\n",
       "      <th>Latitude</th>\n",
       "      <th>Longitude</th>\n",
       "      <th>City</th>\n",
       "    </tr>\n",
       "  </thead>\n",
       "  <tbody>\n",
       "    <tr>\n",
       "      <th>0</th>\n",
       "      <td>21</td>\n",
       "      <td>30341247</td>\n",
       "      <td>04/07/2015 01:31:29 AM</td>\n",
       "      <td>11205.0</td>\n",
       "      <td>40.693205</td>\n",
       "      <td>-73.953990</td>\n",
       "      <td>BROOKLYN</td>\n",
       "    </tr>\n",
       "    <tr>\n",
       "      <th>1</th>\n",
       "      <td>36</td>\n",
       "      <td>30339846</td>\n",
       "      <td>04/07/2015 01:05:00 AM</td>\n",
       "      <td>11215.0</td>\n",
       "      <td>40.664132</td>\n",
       "      <td>-73.986368</td>\n",
       "      <td>BROOKLYN</td>\n",
       "    </tr>\n",
       "    <tr>\n",
       "      <th>2</th>\n",
       "      <td>524</td>\n",
       "      <td>30338420</td>\n",
       "      <td>04/06/2015 09:15:20 PM</td>\n",
       "      <td>11222.0</td>\n",
       "      <td>40.721795</td>\n",
       "      <td>-73.948032</td>\n",
       "      <td>BROOKLYN</td>\n",
       "    </tr>\n",
       "    <tr>\n",
       "      <th>3</th>\n",
       "      <td>878</td>\n",
       "      <td>30343247</td>\n",
       "      <td>04/06/2015 07:13:21 PM</td>\n",
       "      <td>11215.0</td>\n",
       "      <td>40.660374</td>\n",
       "      <td>-73.978594</td>\n",
       "      <td>BROOKLYN</td>\n",
       "    </tr>\n",
       "    <tr>\n",
       "      <th>4</th>\n",
       "      <td>1442</td>\n",
       "      <td>30344376</td>\n",
       "      <td>04/06/2015 04:23:11 PM</td>\n",
       "      <td>10003.0</td>\n",
       "      <td>40.733861</td>\n",
       "      <td>-73.990958</td>\n",
       "      <td>NEW YORK</td>\n",
       "    </tr>\n",
       "  </tbody>\n",
       "</table>\n",
       "</div>"
      ],
      "text/plain": [
       "   Unnamed: 0  Unique Key            Created Date  Incident Zip   Latitude  \\\n",
       "0          21    30341247  04/07/2015 01:31:29 AM       11205.0  40.693205   \n",
       "1          36    30339846  04/07/2015 01:05:00 AM       11215.0  40.664132   \n",
       "2         524    30338420  04/06/2015 09:15:20 PM       11222.0  40.721795   \n",
       "3         878    30343247  04/06/2015 07:13:21 PM       11215.0  40.660374   \n",
       "4        1442    30344376  04/06/2015 04:23:11 PM       10003.0  40.733861   \n",
       "\n",
       "   Longitude      City  \n",
       "0 -73.953990  BROOKLYN  \n",
       "1 -73.986368  BROOKLYN  \n",
       "2 -73.948032  BROOKLYN  \n",
       "3 -73.978594  BROOKLYN  \n",
       "4 -73.990958  NEW YORK  "
      ]
     },
     "execution_count": 2,
     "metadata": {},
     "output_type": "execute_result"
    }
   ],
   "source": [
    "df = pd.read_csv(\"311_2015.csv\")\n",
    "df = df.dropna() #important!!! especially for col = Lon & Lat\n",
    "print df.shape\n",
    "df.head()"
   ]
  },
  {
   "cell_type": "markdown",
   "metadata": {},
   "source": [
    "### 2.Covert df into gpd.Dataframe by adding 'geometry'"
   ]
  },
  {
   "cell_type": "code",
   "execution_count": 4,
   "metadata": {
    "collapsed": false
   },
   "outputs": [
    {
     "data": {
      "text/plain": [
       "numpy.float64"
      ]
     },
     "execution_count": 4,
     "metadata": {},
     "output_type": "execute_result"
    }
   ],
   "source": [
    "# make sure 'Lon-Lat' are numeric variable\n",
    "type(df.Latitude.values[0])"
   ]
  },
  {
   "cell_type": "code",
   "execution_count": 5,
   "metadata": {
    "collapsed": false
   },
   "outputs": [],
   "source": [
    "df['geometry'] = df.apply(lambda row: Point(row['Longitude'], row['Latitude']), axis=1)\n",
    "\n",
    "# Following code is another way to create 'geometry':\n",
    "# geometry = gpd.GeoSeries([Point(xy) for xy in zip(df.Longitude, df.Latitude)])"
   ]
  },
  {
   "cell_type": "code",
   "execution_count": 6,
   "metadata": {
    "collapsed": false
   },
   "outputs": [
    {
     "data": {
      "text/html": [
       "<div>\n",
       "<table border=\"1\" class=\"dataframe\">\n",
       "  <thead>\n",
       "    <tr style=\"text-align: right;\">\n",
       "      <th></th>\n",
       "      <th>Unnamed: 0</th>\n",
       "      <th>Unique Key</th>\n",
       "      <th>Created Date</th>\n",
       "      <th>Incident Zip</th>\n",
       "      <th>Latitude</th>\n",
       "      <th>Longitude</th>\n",
       "      <th>City</th>\n",
       "      <th>geometry</th>\n",
       "    </tr>\n",
       "  </thead>\n",
       "  <tbody>\n",
       "    <tr>\n",
       "      <th>0</th>\n",
       "      <td>21</td>\n",
       "      <td>30341247</td>\n",
       "      <td>04/07/2015 01:31:29 AM</td>\n",
       "      <td>11205.0</td>\n",
       "      <td>40.693205</td>\n",
       "      <td>-73.953990</td>\n",
       "      <td>BROOKLYN</td>\n",
       "      <td>POINT (-73.95398996627262 40.6932048467267)</td>\n",
       "    </tr>\n",
       "    <tr>\n",
       "      <th>1</th>\n",
       "      <td>36</td>\n",
       "      <td>30339846</td>\n",
       "      <td>04/07/2015 01:05:00 AM</td>\n",
       "      <td>11215.0</td>\n",
       "      <td>40.664132</td>\n",
       "      <td>-73.986368</td>\n",
       "      <td>BROOKLYN</td>\n",
       "      <td>POINT (-73.98636773266445 40.66413235965906)</td>\n",
       "    </tr>\n",
       "  </tbody>\n",
       "</table>\n",
       "</div>"
      ],
      "text/plain": [
       "   Unnamed: 0  Unique Key            Created Date  Incident Zip   Latitude  \\\n",
       "0          21    30341247  04/07/2015 01:31:29 AM       11205.0  40.693205   \n",
       "1          36    30339846  04/07/2015 01:05:00 AM       11215.0  40.664132   \n",
       "\n",
       "   Longitude      City                                      geometry  \n",
       "0 -73.953990  BROOKLYN   POINT (-73.95398996627262 40.6932048467267)  \n",
       "1 -73.986368  BROOKLYN  POINT (-73.98636773266445 40.66413235965906)  "
      ]
     },
     "execution_count": 6,
     "metadata": {},
     "output_type": "execute_result"
    }
   ],
   "source": [
    "gdf = gpd.GeoDataFrame(df, geometry=df['geometry'])\n",
    "# set coordinate system\n",
    "gdf.crs = {\"init\": \"epsg:4326\"}\n",
    "gdf.head(2)"
   ]
  },
  {
   "cell_type": "code",
   "execution_count": 7,
   "metadata": {
    "collapsed": false
   },
   "outputs": [
    {
     "data": {
      "text/plain": [
       "{'init': 'epsg:4326'}"
      ]
     },
     "execution_count": 7,
     "metadata": {},
     "output_type": "execute_result"
    }
   ],
   "source": [
    "gdf.crs"
   ]
  },
  {
   "cell_type": "markdown",
   "metadata": {},
   "source": [
    "### 3. Create a list of Homeless Drop-In Center in NYC"
   ]
  },
  {
   "cell_type": "code",
   "execution_count": 8,
   "metadata": {
    "collapsed": false
   },
   "outputs": [],
   "source": [
    "# Tips: {\"Name\": [list]}\n",
    "dropin = gpd.GeoDataFrame({\"Name\": ['Mainchance'], \"Address\": [\"120 East 32nd St. in East Midtown\"], \"Zipcode\": [\"10016\"], \n",
    "          \"geometry\": [Point(-73.9814622, 40.7452285)]}, geometry = 'geometry') \n",
    "dropin = dropin.append(gpd.GeoDataFrame({\"Name\": ['The Living Room'] ,\"Address\": [\"800 Barretto St., Bronx\"], \n",
    "                                \"Zipcode\": [\"10474\"], \"geometry\": [Point(-73.8916751, 40.8168537)]}, \n",
    "                               geometry = 'geometry'))\n",
    "dropin = dropin.append(gpd.GeoDataFrame({\"Name\": ['Olivieri Center'], \"Address\": [\"257 West 30th St. near Penn Station\"], \n",
    "                                \"Zipcode\": [\"10001\"], \"geometry\": [Point(-73.9966147, 40.7495275)]}, \n",
    "                               geometry = 'geometry'))\n",
    "dropin = dropin.append(gpd.GeoDataFrame({\"Name\": ['The Gathering Place'], \"Address\": [\"2402 Atlantic Ave. in Brooklyn\"], \n",
    "                                \"Zipcode\": [\"11233\"], \"geometry\": [Point(-73.9075159, 40.6757497)]}, \n",
    "                               geometry = 'geometry'))\n",
    "dropin = dropin.append(gpd.GeoDataFrame({\"Name\": ['Project Hospitality'], \"Address\": [\"25 Central Ave. in Staten Island\"], \n",
    "                                \"Zipcode\": [\"10301\"], \"geometry\": [Point(-74.0787456, 40.641182)]}, \n",
    "                               geometry = 'geometry'))\n",
    "dropin.crs = {\"init\": \"epsg:4326\"}"
   ]
  },
  {
   "cell_type": "code",
   "execution_count": 9,
   "metadata": {
    "collapsed": false
   },
   "outputs": [],
   "source": [
    "dropin = dropin.reset_index(drop = True)"
   ]
  },
  {
   "cell_type": "code",
   "execution_count": 10,
   "metadata": {
    "collapsed": false
   },
   "outputs": [
    {
     "data": {
      "text/html": [
       "<div>\n",
       "<table border=\"1\" class=\"dataframe\">\n",
       "  <thead>\n",
       "    <tr style=\"text-align: right;\">\n",
       "      <th></th>\n",
       "      <th>Address</th>\n",
       "      <th>Name</th>\n",
       "      <th>Zipcode</th>\n",
       "      <th>geometry</th>\n",
       "    </tr>\n",
       "  </thead>\n",
       "  <tbody>\n",
       "    <tr>\n",
       "      <th>0</th>\n",
       "      <td>120 East 32nd St. in East Midtown</td>\n",
       "      <td>Mainchance</td>\n",
       "      <td>10016</td>\n",
       "      <td>POINT (-73.9814622 40.7452285)</td>\n",
       "    </tr>\n",
       "    <tr>\n",
       "      <th>1</th>\n",
       "      <td>800 Barretto St., Bronx</td>\n",
       "      <td>The Living Room</td>\n",
       "      <td>10474</td>\n",
       "      <td>POINT (-73.8916751 40.8168537)</td>\n",
       "    </tr>\n",
       "    <tr>\n",
       "      <th>2</th>\n",
       "      <td>257 West 30th St. near Penn Station</td>\n",
       "      <td>Olivieri Center</td>\n",
       "      <td>10001</td>\n",
       "      <td>POINT (-73.99661469999999 40.7495275)</td>\n",
       "    </tr>\n",
       "    <tr>\n",
       "      <th>3</th>\n",
       "      <td>2402 Atlantic Ave. in Brooklyn</td>\n",
       "      <td>The Gathering Place</td>\n",
       "      <td>11233</td>\n",
       "      <td>POINT (-73.90751590000001 40.6757497)</td>\n",
       "    </tr>\n",
       "    <tr>\n",
       "      <th>4</th>\n",
       "      <td>25 Central Ave. in Staten Island</td>\n",
       "      <td>Project Hospitality</td>\n",
       "      <td>10301</td>\n",
       "      <td>POINT (-74.0787456 40.641182)</td>\n",
       "    </tr>\n",
       "  </tbody>\n",
       "</table>\n",
       "</div>"
      ],
      "text/plain": [
       "                               Address                 Name Zipcode  \\\n",
       "0    120 East 32nd St. in East Midtown           Mainchance   10016   \n",
       "1              800 Barretto St., Bronx      The Living Room   10474   \n",
       "2  257 West 30th St. near Penn Station      Olivieri Center   10001   \n",
       "3       2402 Atlantic Ave. in Brooklyn  The Gathering Place   11233   \n",
       "4     25 Central Ave. in Staten Island  Project Hospitality   10301   \n",
       "\n",
       "                                geometry  \n",
       "0         POINT (-73.9814622 40.7452285)  \n",
       "1         POINT (-73.8916751 40.8168537)  \n",
       "2  POINT (-73.99661469999999 40.7495275)  \n",
       "3  POINT (-73.90751590000001 40.6757497)  \n",
       "4          POINT (-74.0787456 40.641182)  "
      ]
     },
     "execution_count": 10,
     "metadata": {},
     "output_type": "execute_result"
    }
   ],
   "source": [
    "dropin"
   ]
  },
  {
   "cell_type": "markdown",
   "metadata": {},
   "source": [
    "#### We can use Google API to get all Lon-Lat data of Drop-In centers in NYC."
   ]
  },
  {
   "cell_type": "markdown",
   "metadata": {},
   "source": [
    "### 4. Create Buffer of Drop-In Center and Spatial Join with 311 Points"
   ]
  },
  {
   "cell_type": "code",
   "execution_count": 11,
   "metadata": {
    "collapsed": false
   },
   "outputs": [],
   "source": [
    "b = dropin.copy()\n",
    "b1 = dropin.copy()\n",
    "b01 = dropin.copy()\n",
    "b1['geometry'] = b.buffer(0.005,resolution=20) #see instruction about how to set parameters.\n",
    "b01['geometry'] = b.buffer(0.001,resolution=20)\n",
    "#? still confused about the unit(mile/feet/meter/km) of \"buffer\".\n",
    "\n",
    "b1.crs={\"init\": \"epsg:4326\"}\n",
    "b01.crs={\"init\": \"epsg:4326\"}"
   ]
  },
  {
   "cell_type": "code",
   "execution_count": 12,
   "metadata": {
    "collapsed": false
   },
   "outputs": [],
   "source": [
    "# 311 with buffer\n",
    "complaint_buffer1 = gpd.sjoin(b1, gdf)\n",
    "complaint_buffer01 = gpd.sjoin(b01, gdf)"
   ]
  },
  {
   "cell_type": "code",
   "execution_count": 13,
   "metadata": {
    "collapsed": false
   },
   "outputs": [
    {
     "name": "stdout",
     "output_type": "stream",
     "text": [
      "(11764, 8)\n",
      "(334, 12)\n",
      "(30, 12)\n"
     ]
    }
   ],
   "source": [
    "print gdf.shape\n",
    "print complaint_buffer1.shape\n",
    "print complaint_buffer01.shape"
   ]
  },
  {
   "cell_type": "code",
   "execution_count": 14,
   "metadata": {
    "collapsed": false
   },
   "outputs": [
    {
     "data": {
      "text/html": [
       "<div>\n",
       "<table border=\"1\" class=\"dataframe\">\n",
       "  <thead>\n",
       "    <tr style=\"text-align: right;\">\n",
       "      <th></th>\n",
       "      <th>Address</th>\n",
       "      <th>Name</th>\n",
       "      <th>Zipcode</th>\n",
       "      <th>geometry</th>\n",
       "    </tr>\n",
       "  </thead>\n",
       "  <tbody>\n",
       "    <tr>\n",
       "      <th>0</th>\n",
       "      <td>120 East 32nd St. in East Midtown</td>\n",
       "      <td>Mainchance</td>\n",
       "      <td>10016</td>\n",
       "      <td>POLYGON ((-73.98046219999999 40.7452285, -73.9...</td>\n",
       "    </tr>\n",
       "    <tr>\n",
       "      <th>1</th>\n",
       "      <td>800 Barretto St., Bronx</td>\n",
       "      <td>The Living Room</td>\n",
       "      <td>10474</td>\n",
       "      <td>POLYGON ((-73.8906751 40.8168537, -73.89067818...</td>\n",
       "    </tr>\n",
       "    <tr>\n",
       "      <th>2</th>\n",
       "      <td>257 West 30th St. near Penn Station</td>\n",
       "      <td>Olivieri Center</td>\n",
       "      <td>10001</td>\n",
       "      <td>POLYGON ((-73.99561469999999 40.7495275, -73.9...</td>\n",
       "    </tr>\n",
       "    <tr>\n",
       "      <th>3</th>\n",
       "      <td>2402 Atlantic Ave. in Brooklyn</td>\n",
       "      <td>The Gathering Place</td>\n",
       "      <td>11233</td>\n",
       "      <td>POLYGON ((-73.9065159 40.6757497, -73.90651898...</td>\n",
       "    </tr>\n",
       "    <tr>\n",
       "      <th>4</th>\n",
       "      <td>25 Central Ave. in Staten Island</td>\n",
       "      <td>Project Hospitality</td>\n",
       "      <td>10301</td>\n",
       "      <td>POLYGON ((-74.0777456 40.641182, -74.077748682...</td>\n",
       "    </tr>\n",
       "  </tbody>\n",
       "</table>\n",
       "</div>"
      ],
      "text/plain": [
       "                               Address                 Name Zipcode  \\\n",
       "0    120 East 32nd St. in East Midtown           Mainchance   10016   \n",
       "1              800 Barretto St., Bronx      The Living Room   10474   \n",
       "2  257 West 30th St. near Penn Station      Olivieri Center   10001   \n",
       "3       2402 Atlantic Ave. in Brooklyn  The Gathering Place   11233   \n",
       "4     25 Central Ave. in Staten Island  Project Hospitality   10301   \n",
       "\n",
       "                                            geometry  \n",
       "0  POLYGON ((-73.98046219999999 40.7452285, -73.9...  \n",
       "1  POLYGON ((-73.8906751 40.8168537, -73.89067818...  \n",
       "2  POLYGON ((-73.99561469999999 40.7495275, -73.9...  \n",
       "3  POLYGON ((-73.9065159 40.6757497, -73.90651898...  \n",
       "4  POLYGON ((-74.0777456 40.641182, -74.077748682...  "
      ]
     },
     "execution_count": 14,
     "metadata": {},
     "output_type": "execute_result"
    }
   ],
   "source": [
    "b01"
   ]
  },
  {
   "cell_type": "markdown",
   "metadata": {},
   "source": [
    "### 5.Normalization of buffer"
   ]
  },
  {
   "cell_type": "code",
   "execution_count": 15,
   "metadata": {
    "collapsed": false
   },
   "outputs": [
    {
     "name": "stdout",
     "output_type": "stream",
     "text": [
      "0    0.000078\n",
      "1    0.000078\n",
      "2    0.000078\n",
      "3    0.000078\n",
      "4    0.000078\n",
      "dtype: float64\n",
      "0    0.000003\n",
      "1    0.000003\n",
      "2    0.000003\n",
      "3    0.000003\n",
      "4    0.000003\n",
      "dtype: float64\n"
     ]
    }
   ],
   "source": [
    "#area of buffer\n",
    "print b1.area\n",
    "print b01.area"
   ]
  },
  {
   "cell_type": "code",
   "execution_count": 16,
   "metadata": {
    "collapsed": false
   },
   "outputs": [
    {
     "name": "stdout",
     "output_type": "stream",
     "text": [
      "0    9.559121e+06\n",
      "1    9.559121e+06\n",
      "2    9.559121e+06\n",
      "3    9.559121e+06\n",
      "4    9.559121e+06\n",
      "dtype: float64\n",
      "0    4.036073e+06\n",
      "1    4.036073e+06\n",
      "2    4.036073e+06\n",
      "3    4.036073e+06\n",
      "4    4.036073e+06\n",
      "dtype: float64\n"
     ]
    }
   ],
   "source": [
    "# the number of complaints per square unit (maybe sqft?)\n",
    "print complaint_buffer01.shape[0] / b01.area\n",
    "print (complaint_buffer1.shape[0] - complaint_buffer01.shape[0]) / (b1.area - b01.area)"
   ]
  },
  {
   "cell_type": "markdown",
   "metadata": {},
   "source": [
    "<br/><br/>\n",
    "## 6. From single Buffer to multiple RingBuffer"
   ]
  },
  {
   "cell_type": "code",
   "execution_count": 17,
   "metadata": {
    "collapsed": false
   },
   "outputs": [],
   "source": [
    "# 1. ring-buffer\n",
    "def circles(radius, df):\n",
    "    '''\n",
    "    radius: list\n",
    "    df: df with geometry 'Polygon'\n",
    "    return: Circles not Rings, eg. b['0.001']\n",
    "    '''\n",
    "    b = {}\n",
    "    for r in radius:\n",
    "        temp = df.copy()\n",
    "        temp['geometry'] = temp.buffer(r)\n",
    "        temp.crs = from_epsg(4326)\n",
    "        name = str(r) \n",
    "        b[name] = temp\n",
    "    return b \n",
    "\n",
    "# 2. sjoin: (Polygon, Points) - counts\n",
    "def circleSJoin(radius, b, df_points):\n",
    "    '''\n",
    "    b: circles (buffer)\n",
    "    df_points: df with geometry \"Points\"\n",
    "    return: Circle not Ring with # of Points in each, eg. b_sjoin['0.001']\n",
    "    '''\n",
    "    c_sjoin = {}\n",
    "    for i, r in enumerate(b):\n",
    "        name = str(radius[i])\n",
    "        temp = b[name].copy()\n",
    "        temp.crs = df_points.crs\n",
    "        c_sjoin[name] = gpd.sjoin(temp, df_points)\n",
    "    return c_sjoin \n",
    "\n",
    "# 3. ringDensity\n",
    "def Density(radius, circles, c_sjoin):\n",
    "    rAreas = {}\n",
    "    rCounts = {}\n",
    "    rDesity = {} \n",
    "    rDesity_list = []\n",
    "    for i in xrange(len(radius)):\n",
    "        name = str(radius[i])\n",
    "        if i == 0:\n",
    "            rAreas[name] = circles[name].area.sum()\n",
    "            rCounts[name] = c_sjoin[name].shape[0] \n",
    "        else:\n",
    "            inside= str(radius[i-1])\n",
    "            rAreas[name] = circles[name].area.sum() - circles[inside].area.sum()\n",
    "            rCounts[name] = c_sjoin[name].shape[0] - c_sjoin[inside].shape[0]\n",
    "        rDesity[name] = rCounts[name] / rAreas[name]\n",
    "        rDesity_list.append(rDesity[name])\n",
    "    return rDesity, rCounts, rAreas, rDesity_list\n",
    "\n",
    "# 4\n",
    "def ringDensity(radius, df_polygon, df_point):\n",
    "    c = circles(radius, df_polygon)\n",
    "    bs = circleSJoin(radius, c, df_point)\n",
    "    density, count, area, density_list = Density(radius, c, bs)\n",
    "    return density, count, area, density_list  "
   ]
  },
  {
   "cell_type": "code",
   "execution_count": 18,
   "metadata": {
    "collapsed": false
   },
   "outputs": [],
   "source": [
    "r = [0.0005, 0.0006, 0.00075, 0.001, 0.00125, 0.0015, 0.002, 0.003, 0.005, 0.007, 0.010, 0.015, 0.02]\n",
    "#c =circles(r, dropin)\n",
    "#bs = circleSJoin(r, c, gdf)\n",
    "# Density(r, c, bs)\n",
    "r_density, r_count, r_area, r_density_list  = ringDensity(r, dropin, gdf)"
   ]
  },
  {
   "cell_type": "markdown",
   "metadata": {},
   "source": [
    "##### Result above is mainly used to test whether the sequential values in the list is from certain distribution \n",
    "##### eg. KS Test / Aderson Test -> Exponential \n",
    "##### which to some degree proves the density is much higher with the increasing radius (within certain distance, not too far). "
   ]
  },
  {
   "cell_type": "code",
   "execution_count": 19,
   "metadata": {
    "collapsed": false
   },
   "outputs": [
    {
     "data": {
      "text/plain": [
       "{'0.0005': 2,\n",
       " '0.0006': 8,\n",
       " '0.00075': 2,\n",
       " '0.001': 18,\n",
       " '0.00125': 12,\n",
       " '0.0015': 14,\n",
       " '0.002': 18,\n",
       " '0.003': 85,\n",
       " '0.005': 175,\n",
       " '0.007': 361,\n",
       " '0.01': 515,\n",
       " '0.015': 1805,\n",
       " '0.02': 2372}"
      ]
     },
     "execution_count": 19,
     "metadata": {},
     "output_type": "execute_result"
    }
   ],
   "source": [
    "r_count"
   ]
  },
  {
   "cell_type": "code",
   "execution_count": 20,
   "metadata": {
    "collapsed": false
   },
   "outputs": [
    {
     "data": {
      "text/plain": [
       "[510114.8618682025,\n",
       " 4637407.8351553865,\n",
       " 629771.4344038005,\n",
       " 2623447.86104614,\n",
       " 1360306.298314213,\n",
       " 1298474.1938541874,\n",
       " 655861.9652586596,\n",
       " 1083994.0814721005,\n",
       " 697422.6627113973,\n",
       " 959122.2142433446,\n",
       " 643894.9849572188,\n",
       " 920757.3256734515,\n",
       " 864280.323109167]"
      ]
     },
     "execution_count": 20,
     "metadata": {},
     "output_type": "execute_result"
    }
   ],
   "source": [
    "r_density_list"
   ]
  },
  {
   "cell_type": "code",
   "execution_count": 26,
   "metadata": {
    "collapsed": false
   },
   "outputs": [
    {
     "data": {
      "text/plain": [
       "(400000, 5000000)"
      ]
     },
     "execution_count": 26,
     "metadata": {},
     "output_type": "execute_result"
    },
    {
     "data": {
      "image/png": "[encoded data removed]",
      "text/plain": [
       "<matplotlib.figure.Figure at 0x118d66dd0>"
      ]
     },
     "metadata": {},
     "output_type": "display_data"
    }
   ],
   "source": [
    "pl.figure(figsize=(10,5))\n",
    "pl.plot(r, r_density_list, '.--')\n",
    "pl.ylim(400000,5000000)"
   ]
  },
  {
   "cell_type": "markdown",
   "metadata": {},
   "source": [
    "### Not Only Do Hypo Test, We Can Show the Trends in some more Intuitive Plot. \n",
    "### Not Do Hypo Test Yet! \n",
    "### Reset Range of Radius, Need More Experiments."
   ]
  },
  {
   "cell_type": "code",
   "execution_count": 27,
   "metadata": {
    "collapsed": false
   },
   "outputs": [
    {
     "data": {
      "text/plain": [
       "<matplotlib.axes._subplots.AxesSubplot at 0x118bc78d0>"
      ]
     },
     "execution_count": 27,
     "metadata": {},
     "output_type": "execute_result"
    },
    {
     "data": {
      "image/png": "[encoded data removed]",
      "text/plain": [
       "<matplotlib.figure.Figure at 0x118d8c610>"
      ]
     },
     "metadata": {},
     "output_type": "display_data"
    }
   ],
   "source": [
    "# overlay parts count twice.\n",
    "ring = circles(r, dropin)\n",
    "ring[str(r[10])].plot()"
   ]
  },
  {
   "cell_type": "markdown",
   "metadata": {},
   "source": [
    "### NYC Areas and Complaint Couts"
   ]
  },
  {
   "cell_type": "markdown",
   "metadata": {},
   "source": [
    "### Figure out densities of 6 dropin buffer each. \n",
    "### Hypo test (z/t) with density of NYC."
   ]
  },
  {
   "cell_type": "code",
   "execution_count": 28,
   "metadata": {
    "collapsed": true
   },
   "outputs": [],
   "source": [
    "nyc = gpd.read_file(\"CT_Shape/ct_shape.shp\")"
   ]
  },
  {
   "cell_type": "code",
   "execution_count": 29,
   "metadata": {
    "collapsed": false
   },
   "outputs": [
    {
     "name": "stdout",
     "output_type": "stream",
     "text": [
      "The 311 Homeless Encampment Complaints Density of NYC is 140986.361.\n",
      "The Area of NYC is Around 0.083 Units^2.\n",
      "The Number of Homeless Encampment Complaints is 11764.\n"
     ]
    }
   ],
   "source": [
    "nyc_density = gdf.shape[0] / nyc.area.sum()\n",
    "print \"The 311 Homeless Encampment Complaints Density of NYC is {:.3f}.\\n\\\n",
    "The Area of NYC is Around {:.3f} Units^2.\\n\\\n",
    "The Number of Homeless Encampment Complaints is {}.\".format(nyc_density, nyc.area.sum(),gdf.shape[0])"
   ]
  },
  {
   "cell_type": "code",
   "execution_count": 30,
   "metadata": {
    "collapsed": false
   },
   "outputs": [
    {
     "name": "stdout",
     "output_type": "stream",
     "text": [
      "[3586745.122513895, 239116.34150092636, 1594108.943339509, 398527.23583487724, 79705.44716697544] \n",
      "[45, 3, 20, 5, 1]\n"
     ]
    }
   ],
   "source": [
    "r=[0.002] # other values?\n",
    "dropin_density = []\n",
    "dropin_count = []\n",
    "for i in xrange(dropin.shape[0]):\n",
    "    r_density, r_count, r_area, r_density_list  = ringDensity(r, dropin.iloc[[i]], gdf)\n",
    "    dropin_density.append(r_density_list[0])\n",
    "    dropin_count.append(r_count[str(r[0])])\n",
    "print dropin_density,'\\n', dropin_count"
   ]
  },
  {
   "cell_type": "code",
   "execution_count": 31,
   "metadata": {
    "collapsed": false
   },
   "outputs": [
    {
     "data": {
      "text/plain": [
       "Ttest_1sampResult(statistic=1.5774786632630269, pvalue=0.18982098498085073)"
      ]
     },
     "execution_count": 31,
     "metadata": {},
     "output_type": "execute_result"
    }
   ],
   "source": [
    "stats.ttest_1samp(dropin_density, nyc_density)"
   ]
  },
  {
   "cell_type": "markdown",
   "metadata": {},
   "source": [
    "### Sadly we can not reject Null hypo. r=0.002. MAYBE 'unit' matters."
   ]
  },
  {
   "cell_type": "markdown",
   "metadata": {},
   "source": [
    "<br/><br/>\n",
    "### Also set buffer r=1 unit as population instead of NYC."
   ]
  },
  {
   "cell_type": "code",
   "execution_count": 32,
   "metadata": {
    "collapsed": false
   },
   "outputs": [
    {
     "name": "stdout",
     "output_type": "stream",
     "text": [
      "[2512315.6947044735, 127528.71546723215, 1300792.897765768, 204045.94474757143, 114775.84392050894] \n",
      "[197, 10, 102, 16, 9]\n"
     ]
    }
   ],
   "source": [
    "r=[0.005] \n",
    "dropin_density = []\n",
    "dropin_count = []\n",
    "for i in xrange(dropin.shape[0]):\n",
    "    r_density, r_count, r_area, r_density_list  = ringDensity(r, dropin.iloc[[i]], gdf)\n",
    "    dropin_density.append(r_density_list[0])\n",
    "    dropin_count.append(r_count[str(r[0])])\n",
    "print dropin_density,'\\n', dropin_count\n",
    "a = dropin_density"
   ]
  },
  {
   "cell_type": "code",
   "execution_count": 33,
   "metadata": {
    "collapsed": false
   },
   "outputs": [
    {
     "name": "stdout",
     "output_type": "stream",
     "text": [
      "[3750.619521891211, 3750.619521891211, 3750.6195218912103, 3750.6195218912103, 3750.6195218912103] \n",
      "[11764, 11764, 11764, 11764, 11764]\n"
     ]
    }
   ],
   "source": [
    "r=[1] \n",
    "dropin_density = []\n",
    "dropin_count = []\n",
    "for i in xrange(dropin.shape[0]):\n",
    "    r_density, r_count, r_area, r_density_list  = ringDensity(r, dropin.iloc[[i]], gdf)\n",
    "    dropin_density.append(r_density_list[0])\n",
    "    dropin_count.append(r_count[str(r[0])])\n",
    "print dropin_density,'\\n', dropin_count\n",
    "b = dropin_density"
   ]
  },
  {
   "cell_type": "code",
   "execution_count": 34,
   "metadata": {
    "collapsed": false
   },
   "outputs": [
    {
     "data": {
      "text/plain": [
       "Ttest_1sampResult(statistic=1.7988106446155561, pvalue=0.14644091500683593)"
      ]
     },
     "execution_count": 34,
     "metadata": {},
     "output_type": "execute_result"
    }
   ],
   "source": [
    "stats.ttest_1samp(a,mean(b))"
   ]
  },
  {
   "cell_type": "markdown",
   "metadata": {},
   "source": [
    "### Not Reject Null Hypo"
   ]
  },
  {
   "cell_type": "markdown",
   "metadata": {},
   "source": [
    "<br/><br/><br/>"
   ]
  },
  {
   "cell_type": "markdown",
   "metadata": {},
   "source": [
    "\n",
    "<br/><br/> \n",
    "## Note"
   ]
  },
  {
   "cell_type": "markdown",
   "metadata": {},
   "source": [
    "#### 24-HOUR DROP-IN CENTERS FOR ADULTS : http://www1.nyc.gov/assets/dhs/downloads/pdf/intake_drop_in_centers.pdf"
   ]
  },
  {
   "cell_type": "markdown",
   "metadata": {},
   "source": [
    "#### 5 In Total"
   ]
  },
  {
   "cell_type": "code",
   "execution_count": 35,
   "metadata": {
    "collapsed": true
   },
   "outputs": [],
   "source": [
    "# Future Work\n",
    "#[DONE]#1. Get all Drop-In centers (sample) with Lon-Lat, and covert it into gpd.DeoDataFrame format with 'geometry', like 'dropin';\n",
    "#2. Set a buffer distance = d_buff;\n",
    "#3. Create 'buffer' for each centers (sample ponits) and calculate mean of sampel complaints density (D_sam).\n",
    "#4. Find out Total Area of NYC (Don't Know), and calculate population mean of complaints density(D_pop)\n",
    "#5. Z-test(maybe? mean or proportion) -> H0: D_sam = D_pop; H1: D_sam > D_pop (one-tail test)\n",
    "\n",
    "#6. For one centers, create buffers with radius eg. np.linspace(0.01, 0.1, 10) - 10 buffers\n",
    "#7. calculate densities of each circle or rings and sort them as an array.\n",
    "#8. KS-test with some distribution (\"exponential? ...\")"
   ]
  },
  {
   "cell_type": "markdown",
   "metadata": {},
   "source": [
    "# Conclusion:  \n",
    "\n",
    "### 1. It seems like Hypo Tests fail to prove the effctiveness of dropin centers. But we can tell another story, like NYC need a new effective solution to make dropin centers help more  homeless, then decrease 311 homeless encampment complaints.\n",
    "\n",
    "### 2. Of couse, other interpretations for hypo test results are open.\n",
    "\n",
    "### 3. We need more experiments to set different radius sets. And Change the unit of Length and Area wisely. \n",
    "\n",
    "### 4. How about homeless shelters?\n",
    "\n",
    "### 5. For now, not pay attention to visualization work of hypo test part."
   ]
  }
 ],
 "metadata": {
  "anaconda-cloud": {},
  "kernelspec": {
   "display_name": "Python 2",
   "language": "python",
   "name": "python2"
  },
  "language_info": {
   "codemirror_mode": {
    "name": "ipython",
    "version": 2
   },
   "file_extension": ".py",
   "mimetype": "text/x-python",
   "name": "python",
   "nbconvert_exporter": "python",
   "pygments_lexer": "ipython2",
   "version": "2.7.8"
  }
 },
 "nbformat": 4,
 "nbformat_minor": 1
}
