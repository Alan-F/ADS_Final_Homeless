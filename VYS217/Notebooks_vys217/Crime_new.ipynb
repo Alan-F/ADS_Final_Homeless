{
 "cells": [
  {
   "cell_type": "code",
   "execution_count": 120,
   "metadata": {
    "collapsed": true
   },
   "outputs": [],
   "source": [
    "import geopandas as gp\n",
    "import pandas as pd\n",
    "import matplotlib.pyplot as plt\n",
    "%matplotlib inline"
   ]
  },
  {
   "cell_type": "markdown",
   "metadata": {},
   "source": [
    "# Considering crimes which were reported in 2016 but have crime occurrence date from 01/01/2015 "
   ]
  },
  {
   "cell_type": "code",
   "execution_count": 55,
   "metadata": {
    "collapsed": false
   },
   "outputs": [],
   "source": [
    "crimes = pd.read_csv(\"C:\\Users\\Vishwajeet\\Documents\\Python Scripts\\Homeless\\VYS217\\Data_vys217\\\\\n",
    "Crime\\NYPD_Complaint_Data_Current_YTD.csv\")"
   ]
  },
  {
   "cell_type": "code",
   "execution_count": 56,
   "metadata": {
    "collapsed": false
   },
   "outputs": [
    {
     "data": {
      "text/plain": [
       "Index([u'CMPLNT_NUM', u'CMPLNT_FR_DT', u'CMPLNT_FR_TM', u'CMPLNT_TO_DT',\n",
       "       u'CMPLNT_TO_TM', u'RPT_DT', u'KY_CD', u'OFNS_DESC', u'PD_CD',\n",
       "       u'PD_DESC', u'CRM_ATPT_CPTD_CD', u'LAW_CAT_CD', u'JURIS_DESC',\n",
       "       u'BORO_NM', u'ADDR_PCT_CD', u'LOC_OF_OCCUR_DESC', u'PREM_TYP_DESC',\n",
       "       u'PARKS_NM', u'HADEVELOPT', u'X_COORD_CD', u'Y_COORD_CD', u'Latitude',\n",
       "       u'Longitude', u'Lat_Lon'],\n",
       "      dtype='object')"
      ]
     },
     "execution_count": 56,
     "metadata": {},
     "output_type": "execute_result"
    }
   ],
   "source": [
    "crimes.columns"
   ]
  },
  {
   "cell_type": "code",
   "execution_count": 57,
   "metadata": {
    "collapsed": false
   },
   "outputs": [
    {
     "data": {
      "text/html": [
       "<div>\n",
       "<table border=\"1\" class=\"dataframe\">\n",
       "  <thead>\n",
       "    <tr style=\"text-align: right;\">\n",
       "      <th></th>\n",
       "      <th>CMPLNT_NUM</th>\n",
       "      <th>CMPLNT_FR_DT</th>\n",
       "      <th>CMPLNT_FR_TM</th>\n",
       "      <th>CMPLNT_TO_DT</th>\n",
       "      <th>CMPLNT_TO_TM</th>\n",
       "      <th>RPT_DT</th>\n",
       "      <th>KY_CD</th>\n",
       "      <th>OFNS_DESC</th>\n",
       "      <th>PD_CD</th>\n",
       "      <th>PD_DESC</th>\n",
       "      <th>...</th>\n",
       "      <th>ADDR_PCT_CD</th>\n",
       "      <th>LOC_OF_OCCUR_DESC</th>\n",
       "      <th>PREM_TYP_DESC</th>\n",
       "      <th>PARKS_NM</th>\n",
       "      <th>HADEVELOPT</th>\n",
       "      <th>X_COORD_CD</th>\n",
       "      <th>Y_COORD_CD</th>\n",
       "      <th>Latitude</th>\n",
       "      <th>Longitude</th>\n",
       "      <th>Lat_Lon</th>\n",
       "    </tr>\n",
       "  </thead>\n",
       "  <tbody>\n",
       "    <tr>\n",
       "      <th>0</th>\n",
       "      <td>736216184</td>\n",
       "      <td>09/30/2016</td>\n",
       "      <td>23:25:00</td>\n",
       "      <td>09/30/2016</td>\n",
       "      <td>23:25:00</td>\n",
       "      <td>09/30/2016</td>\n",
       "      <td>236</td>\n",
       "      <td>DANGEROUS WEAPONS</td>\n",
       "      <td>782.0</td>\n",
       "      <td>WEAPONS, POSSESSION, ETC</td>\n",
       "      <td>...</td>\n",
       "      <td>42.0</td>\n",
       "      <td>NaN</td>\n",
       "      <td>TRANSIT - NYC SUBWAY</td>\n",
       "      <td>NaN</td>\n",
       "      <td>NaN</td>\n",
       "      <td>1015308.0</td>\n",
       "      <td>244373.0</td>\n",
       "      <td>40.837376</td>\n",
       "      <td>-73.887761</td>\n",
       "      <td>(40.837376359, -73.887760929)</td>\n",
       "    </tr>\n",
       "    <tr>\n",
       "      <th>1</th>\n",
       "      <td>294332956</td>\n",
       "      <td>09/30/2016</td>\n",
       "      <td>23:16:00</td>\n",
       "      <td>09/30/2016</td>\n",
       "      <td>23:21:00</td>\n",
       "      <td>09/30/2016</td>\n",
       "      <td>344</td>\n",
       "      <td>ASSAULT 3 &amp; RELATED OFFENSES</td>\n",
       "      <td>101.0</td>\n",
       "      <td>ASSAULT 3</td>\n",
       "      <td>...</td>\n",
       "      <td>71.0</td>\n",
       "      <td>OPPOSITE OF</td>\n",
       "      <td>STREET</td>\n",
       "      <td>NaN</td>\n",
       "      <td>NaN</td>\n",
       "      <td>997932.0</td>\n",
       "      <td>180172.0</td>\n",
       "      <td>40.661205</td>\n",
       "      <td>-73.950687</td>\n",
       "      <td>(40.661204871, -73.950686652)</td>\n",
       "    </tr>\n",
       "    <tr>\n",
       "      <th>2</th>\n",
       "      <td>852981427</td>\n",
       "      <td>09/30/2016</td>\n",
       "      <td>23:00:00</td>\n",
       "      <td>09/30/2016</td>\n",
       "      <td>23:05:00</td>\n",
       "      <td>09/30/2016</td>\n",
       "      <td>235</td>\n",
       "      <td>DANGEROUS DRUGS</td>\n",
       "      <td>567.0</td>\n",
       "      <td>MARIJUANA, POSSESSION 4 &amp; 5</td>\n",
       "      <td>...</td>\n",
       "      <td>43.0</td>\n",
       "      <td>INSIDE</td>\n",
       "      <td>RESIDENCE - PUBLIC HOUSING</td>\n",
       "      <td>NaN</td>\n",
       "      <td>CASTLE HILL</td>\n",
       "      <td>1025580.0</td>\n",
       "      <td>236918.0</td>\n",
       "      <td>40.816872</td>\n",
       "      <td>-73.850685</td>\n",
       "      <td>(40.816872438, -73.850684927)</td>\n",
       "    </tr>\n",
       "    <tr>\n",
       "      <th>3</th>\n",
       "      <td>369976063</td>\n",
       "      <td>09/30/2016</td>\n",
       "      <td>23:00:00</td>\n",
       "      <td>NaN</td>\n",
       "      <td>NaN</td>\n",
       "      <td>09/30/2016</td>\n",
       "      <td>118</td>\n",
       "      <td>DANGEROUS WEAPONS</td>\n",
       "      <td>793.0</td>\n",
       "      <td>WEAPONS POSSESSION 3</td>\n",
       "      <td>...</td>\n",
       "      <td>103.0</td>\n",
       "      <td>NaN</td>\n",
       "      <td>STREET</td>\n",
       "      <td>NaN</td>\n",
       "      <td>NaN</td>\n",
       "      <td>1038464.0</td>\n",
       "      <td>192970.0</td>\n",
       "      <td>40.696177</td>\n",
       "      <td>-73.804492</td>\n",
       "      <td>(40.696177006, -73.804492266)</td>\n",
       "    </tr>\n",
       "    <tr>\n",
       "      <th>4</th>\n",
       "      <td>117213771</td>\n",
       "      <td>09/30/2016</td>\n",
       "      <td>23:00:00</td>\n",
       "      <td>09/30/2016</td>\n",
       "      <td>23:10:00</td>\n",
       "      <td>09/30/2016</td>\n",
       "      <td>578</td>\n",
       "      <td>HARRASSMENT 2</td>\n",
       "      <td>637.0</td>\n",
       "      <td>HARASSMENT,SUBD 1,CIVILIAN</td>\n",
       "      <td>...</td>\n",
       "      <td>110.0</td>\n",
       "      <td>FRONT OF</td>\n",
       "      <td>STREET</td>\n",
       "      <td>NaN</td>\n",
       "      <td>NaN</td>\n",
       "      <td>1016301.0</td>\n",
       "      <td>209428.0</td>\n",
       "      <td>40.741458</td>\n",
       "      <td>-73.884339</td>\n",
       "      <td>(40.741458245, -73.884339073)</td>\n",
       "    </tr>\n",
       "  </tbody>\n",
       "</table>\n",
       "<p>5 rows × 24 columns</p>\n",
       "</div>"
      ],
      "text/plain": [
       "   CMPLNT_NUM CMPLNT_FR_DT CMPLNT_FR_TM CMPLNT_TO_DT CMPLNT_TO_TM      RPT_DT  \\\n",
       "0   736216184   09/30/2016     23:25:00   09/30/2016     23:25:00  09/30/2016   \n",
       "1   294332956   09/30/2016     23:16:00   09/30/2016     23:21:00  09/30/2016   \n",
       "2   852981427   09/30/2016     23:00:00   09/30/2016     23:05:00  09/30/2016   \n",
       "3   369976063   09/30/2016     23:00:00          NaN          NaN  09/30/2016   \n",
       "4   117213771   09/30/2016     23:00:00   09/30/2016     23:10:00  09/30/2016   \n",
       "\n",
       "   KY_CD                     OFNS_DESC  PD_CD                      PD_DESC  \\\n",
       "0    236             DANGEROUS WEAPONS  782.0     WEAPONS, POSSESSION, ETC   \n",
       "1    344  ASSAULT 3 & RELATED OFFENSES  101.0                    ASSAULT 3   \n",
       "2    235               DANGEROUS DRUGS  567.0  MARIJUANA, POSSESSION 4 & 5   \n",
       "3    118             DANGEROUS WEAPONS  793.0         WEAPONS POSSESSION 3   \n",
       "4    578                 HARRASSMENT 2  637.0   HARASSMENT,SUBD 1,CIVILIAN   \n",
       "\n",
       "               ...               ADDR_PCT_CD LOC_OF_OCCUR_DESC  \\\n",
       "0              ...                      42.0               NaN   \n",
       "1              ...                      71.0       OPPOSITE OF   \n",
       "2              ...                      43.0            INSIDE   \n",
       "3              ...                     103.0               NaN   \n",
       "4              ...                     110.0          FRONT OF   \n",
       "\n",
       "                PREM_TYP_DESC PARKS_NM   HADEVELOPT X_COORD_CD Y_COORD_CD  \\\n",
       "0        TRANSIT - NYC SUBWAY      NaN          NaN  1015308.0   244373.0   \n",
       "1                      STREET      NaN          NaN   997932.0   180172.0   \n",
       "2  RESIDENCE - PUBLIC HOUSING      NaN  CASTLE HILL  1025580.0   236918.0   \n",
       "3                      STREET      NaN          NaN  1038464.0   192970.0   \n",
       "4                      STREET      NaN          NaN  1016301.0   209428.0   \n",
       "\n",
       "    Latitude  Longitude                        Lat_Lon  \n",
       "0  40.837376 -73.887761  (40.837376359, -73.887760929)  \n",
       "1  40.661205 -73.950687  (40.661204871, -73.950686652)  \n",
       "2  40.816872 -73.850685  (40.816872438, -73.850684927)  \n",
       "3  40.696177 -73.804492  (40.696177006, -73.804492266)  \n",
       "4  40.741458 -73.884339  (40.741458245, -73.884339073)  \n",
       "\n",
       "[5 rows x 24 columns]"
      ]
     },
     "execution_count": 57,
     "metadata": {},
     "output_type": "execute_result"
    }
   ],
   "source": [
    "crimes.head()"
   ]
  },
  {
   "cell_type": "markdown",
   "metadata": {},
   "source": [
    "# File containing meaning of column names/"
   ]
  },
  {
   "cell_type": "code",
   "execution_count": 58,
   "metadata": {
    "collapsed": true
   },
   "outputs": [],
   "source": [
    "desc = pd.read_csv(\"C:\\Users\\Vishwajeet\\Documents\\Python Scripts\\Homeless\\VYS217\\Data_vys217\\\\\n",
    "Crime\\NYPD_Incident_Level_Data_Column_Descriptions.csv\")"
   ]
  },
  {
   "cell_type": "code",
   "execution_count": 59,
   "metadata": {
    "collapsed": false
   },
   "outputs": [
    {
     "data": {
      "text/html": [
       "<div>\n",
       "<table border=\"1\" class=\"dataframe\">\n",
       "  <thead>\n",
       "    <tr style=\"text-align: right;\">\n",
       "      <th></th>\n",
       "      <th>Column</th>\n",
       "      <th>Description</th>\n",
       "    </tr>\n",
       "  </thead>\n",
       "  <tbody>\n",
       "    <tr>\n",
       "      <th>0</th>\n",
       "      <td>CMPLNT_NUM</td>\n",
       "      <td>Randomly generated persistent ID for each comp...</td>\n",
       "    </tr>\n",
       "    <tr>\n",
       "      <th>1</th>\n",
       "      <td>CMPLNT_FR_DT</td>\n",
       "      <td>Exact date of occurrence for the reported even...</td>\n",
       "    </tr>\n",
       "    <tr>\n",
       "      <th>2</th>\n",
       "      <td>CMPLNT_FR_TM</td>\n",
       "      <td>Exact time of occurrence for the reported even...</td>\n",
       "    </tr>\n",
       "    <tr>\n",
       "      <th>3</th>\n",
       "      <td>CMPLNT_TO_DT</td>\n",
       "      <td>Ending date of occurrence for the reported eve...</td>\n",
       "    </tr>\n",
       "    <tr>\n",
       "      <th>4</th>\n",
       "      <td>CMPLNT_TO_TM</td>\n",
       "      <td>Ending time of occurrence for the reported eve...</td>\n",
       "    </tr>\n",
       "    <tr>\n",
       "      <th>5</th>\n",
       "      <td>RPT_DT</td>\n",
       "      <td>Date event was reported to police</td>\n",
       "    </tr>\n",
       "    <tr>\n",
       "      <th>6</th>\n",
       "      <td>KY_CD</td>\n",
       "      <td>Three digit offense classification code</td>\n",
       "    </tr>\n",
       "    <tr>\n",
       "      <th>7</th>\n",
       "      <td>OFNS_DESC</td>\n",
       "      <td>Description of offense corresponding with key ...</td>\n",
       "    </tr>\n",
       "    <tr>\n",
       "      <th>8</th>\n",
       "      <td>PD_CD</td>\n",
       "      <td>Three digit internal classification code (more...</td>\n",
       "    </tr>\n",
       "    <tr>\n",
       "      <th>9</th>\n",
       "      <td>PD_DESC</td>\n",
       "      <td>Description of internal classification corresp...</td>\n",
       "    </tr>\n",
       "    <tr>\n",
       "      <th>10</th>\n",
       "      <td>CRM_ATPT_CPTD_CD</td>\n",
       "      <td>Indicator of whether crime was successfully co...</td>\n",
       "    </tr>\n",
       "    <tr>\n",
       "      <th>11</th>\n",
       "      <td>LAW_CAT_CD</td>\n",
       "      <td>Level of offense: felony, misdemeanor, violation</td>\n",
       "    </tr>\n",
       "    <tr>\n",
       "      <th>12</th>\n",
       "      <td>JURIS_DESC</td>\n",
       "      <td>Jurisdiction responsible for incident. Either ...</td>\n",
       "    </tr>\n",
       "    <tr>\n",
       "      <th>13</th>\n",
       "      <td>BORO_NM</td>\n",
       "      <td>The name of the borough in which the incident ...</td>\n",
       "    </tr>\n",
       "    <tr>\n",
       "      <th>14</th>\n",
       "      <td>ADDR_PCT_CD</td>\n",
       "      <td>The precinct in which the incident occurred</td>\n",
       "    </tr>\n",
       "    <tr>\n",
       "      <th>15</th>\n",
       "      <td>LOC_OF_OCCUR_DESC</td>\n",
       "      <td>Specific location of occurrence in or around t...</td>\n",
       "    </tr>\n",
       "    <tr>\n",
       "      <th>16</th>\n",
       "      <td>PREM_TYP_DESC</td>\n",
       "      <td>Specific description of premises; grocery stor...</td>\n",
       "    </tr>\n",
       "    <tr>\n",
       "      <th>17</th>\n",
       "      <td>PARKS_NM</td>\n",
       "      <td>Name of NYC park, playground or greenspace of ...</td>\n",
       "    </tr>\n",
       "    <tr>\n",
       "      <th>18</th>\n",
       "      <td>HADEVELOPT</td>\n",
       "      <td>Name of NYCHA housing development of occurrenc...</td>\n",
       "    </tr>\n",
       "    <tr>\n",
       "      <th>19</th>\n",
       "      <td>X_COORD_CD</td>\n",
       "      <td>X-coordinate for New York State Plane Coordina...</td>\n",
       "    </tr>\n",
       "    <tr>\n",
       "      <th>20</th>\n",
       "      <td>Y_COORD_CD</td>\n",
       "      <td>Y-coordinate for New York State Plane Coordina...</td>\n",
       "    </tr>\n",
       "    <tr>\n",
       "      <th>21</th>\n",
       "      <td>Latitude</td>\n",
       "      <td>Latitude coordinate for Global Coordinate Syst...</td>\n",
       "    </tr>\n",
       "    <tr>\n",
       "      <th>22</th>\n",
       "      <td>Longitude</td>\n",
       "      <td>Longitude coordinate for Global Coordinate Sys...</td>\n",
       "    </tr>\n",
       "  </tbody>\n",
       "</table>\n",
       "</div>"
      ],
      "text/plain": [
       "               Column                                        Description\n",
       "0          CMPLNT_NUM  Randomly generated persistent ID for each comp...\n",
       "1        CMPLNT_FR_DT  Exact date of occurrence for the reported even...\n",
       "2        CMPLNT_FR_TM  Exact time of occurrence for the reported even...\n",
       "3        CMPLNT_TO_DT  Ending date of occurrence for the reported eve...\n",
       "4        CMPLNT_TO_TM  Ending time of occurrence for the reported eve...\n",
       "5              RPT_DT                 Date event was reported to police \n",
       "6               KY_CD            Three digit offense classification code\n",
       "7           OFNS_DESC  Description of offense corresponding with key ...\n",
       "8               PD_CD  Three digit internal classification code (more...\n",
       "9             PD_DESC  Description of internal classification corresp...\n",
       "10   CRM_ATPT_CPTD_CD  Indicator of whether crime was successfully co...\n",
       "11         LAW_CAT_CD  Level of offense: felony, misdemeanor, violation \n",
       "12         JURIS_DESC  Jurisdiction responsible for incident. Either ...\n",
       "13            BORO_NM  The name of the borough in which the incident ...\n",
       "14        ADDR_PCT_CD        The precinct in which the incident occurred\n",
       "15  LOC_OF_OCCUR_DESC  Specific location of occurrence in or around t...\n",
       "16      PREM_TYP_DESC  Specific description of premises; grocery stor...\n",
       "17           PARKS_NM  Name of NYC park, playground or greenspace of ...\n",
       "18         HADEVELOPT  Name of NYCHA housing development of occurrenc...\n",
       "19         X_COORD_CD  X-coordinate for New York State Plane Coordina...\n",
       "20         Y_COORD_CD  Y-coordinate for New York State Plane Coordina...\n",
       "21           Latitude  Latitude coordinate for Global Coordinate Syst...\n",
       "22          Longitude  Longitude coordinate for Global Coordinate Sys..."
      ]
     },
     "execution_count": 59,
     "metadata": {},
     "output_type": "execute_result"
    }
   ],
   "source": [
    "desc"
   ]
  },
  {
   "cell_type": "markdown",
   "metadata": {},
   "source": [
    "# Taking required columns from crime dataset"
   ]
  },
  {
   "cell_type": "code",
   "execution_count": 60,
   "metadata": {
    "collapsed": true
   },
   "outputs": [],
   "source": [
    "crimes = crimes[['CMPLNT_NUM','CMPLNT_FR_DT','RPT_DT', 'Latitude','Longitude']]"
   ]
  },
  {
   "cell_type": "code",
   "execution_count": 61,
   "metadata": {
    "collapsed": false
   },
   "outputs": [
    {
     "data": {
      "text/html": [
       "<div>\n",
       "<table border=\"1\" class=\"dataframe\">\n",
       "  <thead>\n",
       "    <tr style=\"text-align: right;\">\n",
       "      <th></th>\n",
       "      <th>CMPLNT_NUM</th>\n",
       "      <th>CMPLNT_FR_DT</th>\n",
       "      <th>RPT_DT</th>\n",
       "      <th>Latitude</th>\n",
       "      <th>Longitude</th>\n",
       "    </tr>\n",
       "  </thead>\n",
       "  <tbody>\n",
       "    <tr>\n",
       "      <th>0</th>\n",
       "      <td>736216184</td>\n",
       "      <td>09/30/2016</td>\n",
       "      <td>09/30/2016</td>\n",
       "      <td>40.837376</td>\n",
       "      <td>-73.887761</td>\n",
       "    </tr>\n",
       "    <tr>\n",
       "      <th>1</th>\n",
       "      <td>294332956</td>\n",
       "      <td>09/30/2016</td>\n",
       "      <td>09/30/2016</td>\n",
       "      <td>40.661205</td>\n",
       "      <td>-73.950687</td>\n",
       "    </tr>\n",
       "    <tr>\n",
       "      <th>2</th>\n",
       "      <td>852981427</td>\n",
       "      <td>09/30/2016</td>\n",
       "      <td>09/30/2016</td>\n",
       "      <td>40.816872</td>\n",
       "      <td>-73.850685</td>\n",
       "    </tr>\n",
       "    <tr>\n",
       "      <th>3</th>\n",
       "      <td>369976063</td>\n",
       "      <td>09/30/2016</td>\n",
       "      <td>09/30/2016</td>\n",
       "      <td>40.696177</td>\n",
       "      <td>-73.804492</td>\n",
       "    </tr>\n",
       "    <tr>\n",
       "      <th>4</th>\n",
       "      <td>117213771</td>\n",
       "      <td>09/30/2016</td>\n",
       "      <td>09/30/2016</td>\n",
       "      <td>40.741458</td>\n",
       "      <td>-73.884339</td>\n",
       "    </tr>\n",
       "  </tbody>\n",
       "</table>\n",
       "</div>"
      ],
      "text/plain": [
       "   CMPLNT_NUM CMPLNT_FR_DT      RPT_DT   Latitude  Longitude\n",
       "0   736216184   09/30/2016  09/30/2016  40.837376 -73.887761\n",
       "1   294332956   09/30/2016  09/30/2016  40.661205 -73.950687\n",
       "2   852981427   09/30/2016  09/30/2016  40.816872 -73.850685\n",
       "3   369976063   09/30/2016  09/30/2016  40.696177 -73.804492\n",
       "4   117213771   09/30/2016  09/30/2016  40.741458 -73.884339"
      ]
     },
     "execution_count": 61,
     "metadata": {},
     "output_type": "execute_result"
    }
   ],
   "source": [
    "crimes.head()"
   ]
  },
  {
   "cell_type": "code",
   "execution_count": 62,
   "metadata": {
    "collapsed": false
   },
   "outputs": [],
   "source": [
    "crimes.CMPLNT_FR_DT = pd.to_datetime(crimes.CMPLNT_FR_DT, errors = 'coerce')\n",
    "crimes.RPT_DT = pd.to_datetime(crimes.RPT_DT, errors = 'coerce')"
   ]
  },
  {
   "cell_type": "code",
   "execution_count": 63,
   "metadata": {
    "collapsed": false
   },
   "outputs": [
    {
     "data": {
      "text/plain": [
       "CMPLNT_NUM               int64\n",
       "CMPLNT_FR_DT    datetime64[ns]\n",
       "RPT_DT          datetime64[ns]\n",
       "Latitude               float64\n",
       "Longitude              float64\n",
       "dtype: object"
      ]
     },
     "execution_count": 63,
     "metadata": {},
     "output_type": "execute_result"
    }
   ],
   "source": [
    "crimes.dtypes"
   ]
  },
  {
   "cell_type": "code",
   "execution_count": 65,
   "metadata": {
    "collapsed": false
   },
   "outputs": [
    {
     "data": {
      "text/plain": [
       "count                  361740\n",
       "unique                    274\n",
       "top       2016-06-21 00:00:00\n",
       "freq                     1598\n",
       "first     2016-01-01 00:00:00\n",
       "last      2016-09-30 00:00:00\n",
       "Name: RPT_DT, dtype: object"
      ]
     },
     "execution_count": 65,
     "metadata": {},
     "output_type": "execute_result"
    }
   ],
   "source": [
    "crimes.RPT_DT.describe()"
   ]
  },
  {
   "cell_type": "code",
   "execution_count": 64,
   "metadata": {
    "collapsed": false
   },
   "outputs": [
    {
     "data": {
      "text/plain": [
       "count                  361721\n",
       "unique                   1499\n",
       "top       2016-01-01 00:00:00\n",
       "freq                     2077\n",
       "first     1912-11-16 00:00:00\n",
       "last      2016-09-30 00:00:00\n",
       "Name: CMPLNT_FR_DT, dtype: object"
      ]
     },
     "execution_count": 64,
     "metadata": {},
     "output_type": "execute_result"
    }
   ],
   "source": [
    "crimes.CMPLNT_FR_DT.describe()"
   ]
  },
  {
   "cell_type": "code",
   "execution_count": 74,
   "metadata": {
    "collapsed": false
   },
   "outputs": [
    {
     "data": {
      "text/plain": [
       "(361739, 5)"
      ]
     },
     "execution_count": 74,
     "metadata": {},
     "output_type": "execute_result"
    }
   ],
   "source": [
    "crimes.shape\n",
    "# crimes.dropna(inplace=True)\n",
    "# crimes.shape"
   ]
  },
  {
   "cell_type": "code",
   "execution_count": 75,
   "metadata": {
    "collapsed": true
   },
   "outputs": [],
   "source": [
    "crimes = crimes[crimes.CMPLNT_FR_DT >= '2015-01-01']"
   ]
  },
  {
   "cell_type": "code",
   "execution_count": 76,
   "metadata": {
    "collapsed": false
   },
   "outputs": [
    {
     "data": {
      "text/plain": [
       "(360096, 5)"
      ]
     },
     "execution_count": 76,
     "metadata": {},
     "output_type": "execute_result"
    }
   ],
   "source": [
    "crimes.shape"
   ]
  },
  {
   "cell_type": "code",
   "execution_count": 77,
   "metadata": {
    "collapsed": false
   },
   "outputs": [
    {
     "data": {
      "text/plain": [
       "count                  360096\n",
       "unique                    639\n",
       "top       2016-01-01 00:00:00\n",
       "freq                     2077\n",
       "first     2015-01-01 00:00:00\n",
       "last      2016-09-30 00:00:00\n",
       "Name: CMPLNT_FR_DT, dtype: object"
      ]
     },
     "execution_count": 77,
     "metadata": {},
     "output_type": "execute_result"
    }
   ],
   "source": [
    "crimes.CMPLNT_FR_DT.describe()"
   ]
  },
  {
   "cell_type": "code",
   "execution_count": 78,
   "metadata": {
    "collapsed": false
   },
   "outputs": [
    {
     "data": {
      "text/html": [
       "<div>\n",
       "<table border=\"1\" class=\"dataframe\">\n",
       "  <thead>\n",
       "    <tr style=\"text-align: right;\">\n",
       "      <th></th>\n",
       "      <th>CMPLNT_NUM</th>\n",
       "      <th>CMPLNT_FR_DT</th>\n",
       "      <th>RPT_DT</th>\n",
       "      <th>Latitude</th>\n",
       "      <th>Longitude</th>\n",
       "    </tr>\n",
       "  </thead>\n",
       "  <tbody>\n",
       "  </tbody>\n",
       "</table>\n",
       "</div>"
      ],
      "text/plain": [
       "Empty DataFrame\n",
       "Columns: [CMPLNT_NUM, CMPLNT_FR_DT, RPT_DT, Latitude, Longitude]\n",
       "Index: []"
      ]
     },
     "execution_count": 78,
     "metadata": {},
     "output_type": "execute_result"
    }
   ],
   "source": [
    "crimes[crimes.CMPLNT_FR_DT.isnull()]"
   ]
  },
  {
   "cell_type": "code",
   "execution_count": 82,
   "metadata": {
    "collapsed": false
   },
   "outputs": [
    {
     "data": {
      "text/html": [
       "<div>\n",
       "<table border=\"1\" class=\"dataframe\">\n",
       "  <thead>\n",
       "    <tr style=\"text-align: right;\">\n",
       "      <th></th>\n",
       "      <th>CMPLNT_NUM</th>\n",
       "      <th>CMPLNT_FR_DT</th>\n",
       "      <th>RPT_DT</th>\n",
       "      <th>Latitude</th>\n",
       "      <th>Longitude</th>\n",
       "    </tr>\n",
       "  </thead>\n",
       "  <tbody>\n",
       "  </tbody>\n",
       "</table>\n",
       "</div>"
      ],
      "text/plain": [
       "Empty DataFrame\n",
       "Columns: [CMPLNT_NUM, CMPLNT_FR_DT, RPT_DT, Latitude, Longitude]\n",
       "Index: []"
      ]
     },
     "execution_count": 82,
     "metadata": {},
     "output_type": "execute_result"
    }
   ],
   "source": [
    "crimes[crimes.RPT_DT.isnull()]"
   ]
  },
  {
   "cell_type": "code",
   "execution_count": 83,
   "metadata": {
    "collapsed": false
   },
   "outputs": [
    {
     "data": {
      "text/html": [
       "<div>\n",
       "<table border=\"1\" class=\"dataframe\">\n",
       "  <thead>\n",
       "    <tr style=\"text-align: right;\">\n",
       "      <th></th>\n",
       "      <th>CMPLNT_NUM</th>\n",
       "      <th>CMPLNT_FR_DT</th>\n",
       "      <th>RPT_DT</th>\n",
       "      <th>Latitude</th>\n",
       "      <th>Longitude</th>\n",
       "    </tr>\n",
       "  </thead>\n",
       "  <tbody>\n",
       "  </tbody>\n",
       "</table>\n",
       "</div>"
      ],
      "text/plain": [
       "Empty DataFrame\n",
       "Columns: [CMPLNT_NUM, CMPLNT_FR_DT, RPT_DT, Latitude, Longitude]\n",
       "Index: []"
      ]
     },
     "execution_count": 83,
     "metadata": {},
     "output_type": "execute_result"
    }
   ],
   "source": [
    "crimes[crimes.CMPLNT_NUM.isnull()]"
   ]
  },
  {
   "cell_type": "code",
   "execution_count": 84,
   "metadata": {
    "collapsed": false
   },
   "outputs": [
    {
     "data": {
      "text/plain": [
       "5420"
      ]
     },
     "execution_count": 84,
     "metadata": {},
     "output_type": "execute_result"
    }
   ],
   "source": [
    "len(crimes[crimes.Latitude.isnull()])"
   ]
  },
  {
   "cell_type": "code",
   "execution_count": 85,
   "metadata": {
    "collapsed": false
   },
   "outputs": [
    {
     "data": {
      "text/plain": [
       "(360096, 5)"
      ]
     },
     "execution_count": 85,
     "metadata": {},
     "output_type": "execute_result"
    }
   ],
   "source": [
    "crimes.shape"
   ]
  },
  {
   "cell_type": "code",
   "execution_count": 86,
   "metadata": {
    "collapsed": false
   },
   "outputs": [
    {
     "name": "stderr",
     "output_type": "stream",
     "text": [
      "C:\\Users\\Vishwajeet\\Anaconda2\\lib\\site-packages\\ipykernel\\__main__.py:1: SettingWithCopyWarning: \n",
      "A value is trying to be set on a copy of a slice from a DataFrame\n",
      "\n",
      "See the caveats in the documentation: http://pandas.pydata.org/pandas-docs/stable/indexing.html#indexing-view-versus-copy\n",
      "  if __name__ == '__main__':\n"
     ]
    }
   ],
   "source": [
    "crimes.dropna(inplace=True)"
   ]
  },
  {
   "cell_type": "code",
   "execution_count": 87,
   "metadata": {
    "collapsed": false
   },
   "outputs": [
    {
     "data": {
      "text/plain": [
       "(354676, 5)"
      ]
     },
     "execution_count": 87,
     "metadata": {},
     "output_type": "execute_result"
    }
   ],
   "source": [
    "crimes.shape"
   ]
  },
  {
   "cell_type": "markdown",
   "metadata": {},
   "source": [
    "# Export Crime file"
   ]
  },
  {
   "cell_type": "code",
   "execution_count": 89,
   "metadata": {
    "collapsed": true
   },
   "outputs": [],
   "source": [
    "crimes.to_csv('C:\\Users\\Vishwajeet\\Documents\\Python Scripts\\Homeless\\VYS217\\Data_vys217\\Crime\\intermittent\\crimes_export.csv')"
   ]
  },
  {
   "cell_type": "markdown",
   "metadata": {},
   "source": [
    "# The exported file is used to spacially join the dataset to zipcodes in ArcGIS and import the shape filw with the crimes data summarised in zipcodes "
   ]
  },
  {
   "cell_type": "code",
   "execution_count": 90,
   "metadata": {
    "collapsed": true
   },
   "outputs": [],
   "source": [
    "crime_zipcode = gp.read_file(\"C:\\Users\\Vishwajeet\\Documents\\Python Scripts\\Homeless\\VYS217\\Data_vys217\\Crime\\intermittent\\Crimes_Zips\\Crimes_zip.shp\")"
   ]
  },
  {
   "cell_type": "code",
   "execution_count": 92,
   "metadata": {
    "collapsed": false
   },
   "outputs": [],
   "source": [
    "crime_zipcode = crime_zipcode[['ZIPCODE','Count_']]"
   ]
  },
  {
   "cell_type": "code",
   "execution_count": 93,
   "metadata": {
    "collapsed": false
   },
   "outputs": [
    {
     "data": {
      "text/html": [
       "<div>\n",
       "<table border=\"1\" class=\"dataframe\">\n",
       "  <thead>\n",
       "    <tr style=\"text-align: right;\">\n",
       "      <th></th>\n",
       "      <th>ZIPCODE</th>\n",
       "      <th>Count_</th>\n",
       "    </tr>\n",
       "  </thead>\n",
       "  <tbody>\n",
       "    <tr>\n",
       "      <th>19</th>\n",
       "      <td>10463</td>\n",
       "      <td>568</td>\n",
       "    </tr>\n",
       "    <tr>\n",
       "      <th>27</th>\n",
       "      <td>10464</td>\n",
       "      <td>0</td>\n",
       "    </tr>\n",
       "    <tr>\n",
       "      <th>28</th>\n",
       "      <td>10464</td>\n",
       "      <td>148</td>\n",
       "    </tr>\n",
       "    <tr>\n",
       "      <th>109</th>\n",
       "      <td>10004</td>\n",
       "      <td>0</td>\n",
       "    </tr>\n",
       "    <tr>\n",
       "      <th>113</th>\n",
       "      <td>10004</td>\n",
       "      <td>0</td>\n",
       "    </tr>\n",
       "    <tr>\n",
       "      <th>114</th>\n",
       "      <td>10004</td>\n",
       "      <td>0</td>\n",
       "    </tr>\n",
       "    <tr>\n",
       "      <th>123</th>\n",
       "      <td>11231</td>\n",
       "      <td>0</td>\n",
       "    </tr>\n",
       "    <tr>\n",
       "      <th>144</th>\n",
       "      <td>11096</td>\n",
       "      <td>5</td>\n",
       "    </tr>\n",
       "    <tr>\n",
       "      <th>146</th>\n",
       "      <td>11693</td>\n",
       "      <td>0</td>\n",
       "    </tr>\n",
       "    <tr>\n",
       "      <th>149</th>\n",
       "      <td>11693</td>\n",
       "      <td>777</td>\n",
       "    </tr>\n",
       "    <tr>\n",
       "      <th>194</th>\n",
       "      <td>11370</td>\n",
       "      <td>1264</td>\n",
       "    </tr>\n",
       "    <tr>\n",
       "      <th>241</th>\n",
       "      <td>10196</td>\n",
       "      <td>0</td>\n",
       "    </tr>\n",
       "    <tr>\n",
       "      <th>246</th>\n",
       "      <td>10047</td>\n",
       "      <td>0</td>\n",
       "    </tr>\n",
       "    <tr>\n",
       "      <th>253</th>\n",
       "      <td>10035</td>\n",
       "      <td>235</td>\n",
       "    </tr>\n",
       "    <tr>\n",
       "      <th>259</th>\n",
       "      <td>11693</td>\n",
       "      <td>0</td>\n",
       "    </tr>\n",
       "  </tbody>\n",
       "</table>\n",
       "</div>"
      ],
      "text/plain": [
       "    ZIPCODE  Count_\n",
       "19    10463     568\n",
       "27    10464       0\n",
       "28    10464     148\n",
       "109   10004       0\n",
       "113   10004       0\n",
       "114   10004       0\n",
       "123   11231       0\n",
       "144   11096       5\n",
       "146   11693       0\n",
       "149   11693     777\n",
       "194   11370    1264\n",
       "241   10196       0\n",
       "246   10047       0\n",
       "253   10035     235\n",
       "259   11693       0"
      ]
     },
     "execution_count": 93,
     "metadata": {},
     "output_type": "execute_result"
    }
   ],
   "source": [
    "crime_zipcode[crime_zipcode.ZIPCODE.duplicated()]"
   ]
  },
  {
   "cell_type": "code",
   "execution_count": 94,
   "metadata": {
    "collapsed": false
   },
   "outputs": [
    {
     "name": "stderr",
     "output_type": "stream",
     "text": [
      "C:\\Users\\Vishwajeet\\Anaconda2\\lib\\site-packages\\ipykernel\\__main__.py:1: SettingWithCopyWarning: \n",
      "A value is trying to be set on a copy of a slice from a DataFrame\n",
      "\n",
      "See the caveats in the documentation: http://pandas.pydata.org/pandas-docs/stable/indexing.html#indexing-view-versus-copy\n",
      "  if __name__ == '__main__':\n"
     ]
    }
   ],
   "source": [
    "crime_zipcode.sort_values(['ZIPCODE','Count_'], ascending= False, inplace= True)"
   ]
  },
  {
   "cell_type": "code",
   "execution_count": 95,
   "metadata": {
    "collapsed": false
   },
   "outputs": [],
   "source": [
    "crime_zipcode.reset_index(inplace= True)"
   ]
  },
  {
   "cell_type": "code",
   "execution_count": 96,
   "metadata": {
    "collapsed": false
   },
   "outputs": [
    {
     "name": "stderr",
     "output_type": "stream",
     "text": [
      "C:\\Users\\Vishwajeet\\Anaconda2\\lib\\site-packages\\ipykernel\\__main__.py:1: SettingWithCopyWarning: \n",
      "A value is trying to be set on a copy of a slice from a DataFrame\n",
      "\n",
      "See the caveats in the documentation: http://pandas.pydata.org/pandas-docs/stable/indexing.html#indexing-view-versus-copy\n",
      "  if __name__ == '__main__':\n"
     ]
    }
   ],
   "source": [
    "crime_zipcode.drop(['index'], axis=1, inplace=True)"
   ]
  },
  {
   "cell_type": "code",
   "execution_count": 97,
   "metadata": {
    "collapsed": false
   },
   "outputs": [],
   "source": [
    "crime_zipcode = crime_zipcode.groupby('ZIPCODE').sum()"
   ]
  },
  {
   "cell_type": "code",
   "execution_count": 101,
   "metadata": {
    "collapsed": false
   },
   "outputs": [],
   "source": [
    "crime_zipcode = crime_zipcode[crime_zipcode.index >= '10000']"
   ]
  },
  {
   "cell_type": "code",
   "execution_count": 103,
   "metadata": {
    "collapsed": false
   },
   "outputs": [],
   "source": [
    "crime_zipcode.reset_index(inplace=True)"
   ]
  },
  {
   "cell_type": "code",
   "execution_count": 105,
   "metadata": {
    "collapsed": true
   },
   "outputs": [],
   "source": [
    "crime_zipcode.columns = ['zip_code','crime_count']"
   ]
  },
  {
   "cell_type": "code",
   "execution_count": 106,
   "metadata": {
    "collapsed": false
   },
   "outputs": [
    {
     "data": {
      "text/html": [
       "<div>\n",
       "<table border=\"1\" class=\"dataframe\">\n",
       "  <thead>\n",
       "    <tr style=\"text-align: right;\">\n",
       "      <th></th>\n",
       "      <th>zip_code</th>\n",
       "      <th>crime_count</th>\n",
       "    </tr>\n",
       "  </thead>\n",
       "  <tbody>\n",
       "    <tr>\n",
       "      <th>0</th>\n",
       "      <td>10001</td>\n",
       "      <td>4404</td>\n",
       "    </tr>\n",
       "    <tr>\n",
       "      <th>1</th>\n",
       "      <td>10002</td>\n",
       "      <td>4145</td>\n",
       "    </tr>\n",
       "    <tr>\n",
       "      <th>2</th>\n",
       "      <td>10003</td>\n",
       "      <td>3397</td>\n",
       "    </tr>\n",
       "    <tr>\n",
       "      <th>3</th>\n",
       "      <td>10004</td>\n",
       "      <td>453</td>\n",
       "    </tr>\n",
       "    <tr>\n",
       "      <th>4</th>\n",
       "      <td>10005</td>\n",
       "      <td>285</td>\n",
       "    </tr>\n",
       "    <tr>\n",
       "      <th>5</th>\n",
       "      <td>10006</td>\n",
       "      <td>242</td>\n",
       "    </tr>\n",
       "    <tr>\n",
       "      <th>6</th>\n",
       "      <td>10007</td>\n",
       "      <td>985</td>\n",
       "    </tr>\n",
       "    <tr>\n",
       "      <th>7</th>\n",
       "      <td>10009</td>\n",
       "      <td>2408</td>\n",
       "    </tr>\n",
       "    <tr>\n",
       "      <th>8</th>\n",
       "      <td>10010</td>\n",
       "      <td>1530</td>\n",
       "    </tr>\n",
       "    <tr>\n",
       "      <th>9</th>\n",
       "      <td>10011</td>\n",
       "      <td>3185</td>\n",
       "    </tr>\n",
       "    <tr>\n",
       "      <th>10</th>\n",
       "      <td>10012</td>\n",
       "      <td>1959</td>\n",
       "    </tr>\n",
       "    <tr>\n",
       "      <th>11</th>\n",
       "      <td>10013</td>\n",
       "      <td>2262</td>\n",
       "    </tr>\n",
       "    <tr>\n",
       "      <th>12</th>\n",
       "      <td>10014</td>\n",
       "      <td>1699</td>\n",
       "    </tr>\n",
       "    <tr>\n",
       "      <th>13</th>\n",
       "      <td>10016</td>\n",
       "      <td>1748</td>\n",
       "    </tr>\n",
       "    <tr>\n",
       "      <th>14</th>\n",
       "      <td>10017</td>\n",
       "      <td>1165</td>\n",
       "    </tr>\n",
       "    <tr>\n",
       "      <th>15</th>\n",
       "      <td>10018</td>\n",
       "      <td>1969</td>\n",
       "    </tr>\n",
       "    <tr>\n",
       "      <th>16</th>\n",
       "      <td>10019</td>\n",
       "      <td>3360</td>\n",
       "    </tr>\n",
       "    <tr>\n",
       "      <th>17</th>\n",
       "      <td>10020</td>\n",
       "      <td>312</td>\n",
       "    </tr>\n",
       "    <tr>\n",
       "      <th>18</th>\n",
       "      <td>10021</td>\n",
       "      <td>699</td>\n",
       "    </tr>\n",
       "    <tr>\n",
       "      <th>19</th>\n",
       "      <td>10022</td>\n",
       "      <td>1750</td>\n",
       "    </tr>\n",
       "    <tr>\n",
       "      <th>20</th>\n",
       "      <td>10023</td>\n",
       "      <td>2098</td>\n",
       "    </tr>\n",
       "    <tr>\n",
       "      <th>21</th>\n",
       "      <td>10024</td>\n",
       "      <td>1546</td>\n",
       "    </tr>\n",
       "    <tr>\n",
       "      <th>22</th>\n",
       "      <td>10025</td>\n",
       "      <td>3156</td>\n",
       "    </tr>\n",
       "    <tr>\n",
       "      <th>23</th>\n",
       "      <td>10026</td>\n",
       "      <td>2661</td>\n",
       "    </tr>\n",
       "    <tr>\n",
       "      <th>24</th>\n",
       "      <td>10027</td>\n",
       "      <td>4677</td>\n",
       "    </tr>\n",
       "    <tr>\n",
       "      <th>25</th>\n",
       "      <td>10028</td>\n",
       "      <td>1038</td>\n",
       "    </tr>\n",
       "    <tr>\n",
       "      <th>26</th>\n",
       "      <td>10029</td>\n",
       "      <td>5015</td>\n",
       "    </tr>\n",
       "    <tr>\n",
       "      <th>27</th>\n",
       "      <td>10030</td>\n",
       "      <td>1918</td>\n",
       "    </tr>\n",
       "    <tr>\n",
       "      <th>28</th>\n",
       "      <td>10031</td>\n",
       "      <td>2909</td>\n",
       "    </tr>\n",
       "    <tr>\n",
       "      <th>29</th>\n",
       "      <td>10032</td>\n",
       "      <td>2411</td>\n",
       "    </tr>\n",
       "    <tr>\n",
       "      <th>...</th>\n",
       "      <td>...</td>\n",
       "      <td>...</td>\n",
       "    </tr>\n",
       "    <tr>\n",
       "      <th>217</th>\n",
       "      <td>11385</td>\n",
       "      <td>3049</td>\n",
       "    </tr>\n",
       "    <tr>\n",
       "      <th>218</th>\n",
       "      <td>11411</td>\n",
       "      <td>557</td>\n",
       "    </tr>\n",
       "    <tr>\n",
       "      <th>219</th>\n",
       "      <td>11412</td>\n",
       "      <td>1240</td>\n",
       "    </tr>\n",
       "    <tr>\n",
       "      <th>220</th>\n",
       "      <td>11413</td>\n",
       "      <td>1402</td>\n",
       "    </tr>\n",
       "    <tr>\n",
       "      <th>221</th>\n",
       "      <td>11414</td>\n",
       "      <td>609</td>\n",
       "    </tr>\n",
       "    <tr>\n",
       "      <th>222</th>\n",
       "      <td>11415</td>\n",
       "      <td>426</td>\n",
       "    </tr>\n",
       "    <tr>\n",
       "      <th>223</th>\n",
       "      <td>11416</td>\n",
       "      <td>839</td>\n",
       "    </tr>\n",
       "    <tr>\n",
       "      <th>224</th>\n",
       "      <td>11417</td>\n",
       "      <td>1122</td>\n",
       "    </tr>\n",
       "    <tr>\n",
       "      <th>225</th>\n",
       "      <td>11418</td>\n",
       "      <td>1319</td>\n",
       "    </tr>\n",
       "    <tr>\n",
       "      <th>226</th>\n",
       "      <td>11419</td>\n",
       "      <td>1601</td>\n",
       "    </tr>\n",
       "    <tr>\n",
       "      <th>227</th>\n",
       "      <td>11420</td>\n",
       "      <td>1667</td>\n",
       "    </tr>\n",
       "    <tr>\n",
       "      <th>228</th>\n",
       "      <td>11421</td>\n",
       "      <td>929</td>\n",
       "    </tr>\n",
       "    <tr>\n",
       "      <th>229</th>\n",
       "      <td>11422</td>\n",
       "      <td>806</td>\n",
       "    </tr>\n",
       "    <tr>\n",
       "      <th>230</th>\n",
       "      <td>11423</td>\n",
       "      <td>910</td>\n",
       "    </tr>\n",
       "    <tr>\n",
       "      <th>231</th>\n",
       "      <td>11426</td>\n",
       "      <td>377</td>\n",
       "    </tr>\n",
       "    <tr>\n",
       "      <th>232</th>\n",
       "      <td>11427</td>\n",
       "      <td>546</td>\n",
       "    </tr>\n",
       "    <tr>\n",
       "      <th>233</th>\n",
       "      <td>11428</td>\n",
       "      <td>565</td>\n",
       "    </tr>\n",
       "    <tr>\n",
       "      <th>234</th>\n",
       "      <td>11429</td>\n",
       "      <td>856</td>\n",
       "    </tr>\n",
       "    <tr>\n",
       "      <th>235</th>\n",
       "      <td>11430</td>\n",
       "      <td>19</td>\n",
       "    </tr>\n",
       "    <tr>\n",
       "      <th>236</th>\n",
       "      <td>11432</td>\n",
       "      <td>2650</td>\n",
       "    </tr>\n",
       "    <tr>\n",
       "      <th>237</th>\n",
       "      <td>11433</td>\n",
       "      <td>2057</td>\n",
       "    </tr>\n",
       "    <tr>\n",
       "      <th>238</th>\n",
       "      <td>11434</td>\n",
       "      <td>3883</td>\n",
       "    </tr>\n",
       "    <tr>\n",
       "      <th>239</th>\n",
       "      <td>11435</td>\n",
       "      <td>1851</td>\n",
       "    </tr>\n",
       "    <tr>\n",
       "      <th>240</th>\n",
       "      <td>11436</td>\n",
       "      <td>635</td>\n",
       "    </tr>\n",
       "    <tr>\n",
       "      <th>241</th>\n",
       "      <td>11451</td>\n",
       "      <td>1</td>\n",
       "    </tr>\n",
       "    <tr>\n",
       "      <th>242</th>\n",
       "      <td>11691</td>\n",
       "      <td>3193</td>\n",
       "    </tr>\n",
       "    <tr>\n",
       "      <th>243</th>\n",
       "      <td>11692</td>\n",
       "      <td>921</td>\n",
       "    </tr>\n",
       "    <tr>\n",
       "      <th>244</th>\n",
       "      <td>11693</td>\n",
       "      <td>864</td>\n",
       "    </tr>\n",
       "    <tr>\n",
       "      <th>245</th>\n",
       "      <td>11694</td>\n",
       "      <td>623</td>\n",
       "    </tr>\n",
       "    <tr>\n",
       "      <th>246</th>\n",
       "      <td>11697</td>\n",
       "      <td>94</td>\n",
       "    </tr>\n",
       "  </tbody>\n",
       "</table>\n",
       "<p>247 rows × 2 columns</p>\n",
       "</div>"
      ],
      "text/plain": [
       "    zip_code  crime_count\n",
       "0      10001         4404\n",
       "1      10002         4145\n",
       "2      10003         3397\n",
       "3      10004          453\n",
       "4      10005          285\n",
       "5      10006          242\n",
       "6      10007          985\n",
       "7      10009         2408\n",
       "8      10010         1530\n",
       "9      10011         3185\n",
       "10     10012         1959\n",
       "11     10013         2262\n",
       "12     10014         1699\n",
       "13     10016         1748\n",
       "14     10017         1165\n",
       "15     10018         1969\n",
       "16     10019         3360\n",
       "17     10020          312\n",
       "18     10021          699\n",
       "19     10022         1750\n",
       "20     10023         2098\n",
       "21     10024         1546\n",
       "22     10025         3156\n",
       "23     10026         2661\n",
       "24     10027         4677\n",
       "25     10028         1038\n",
       "26     10029         5015\n",
       "27     10030         1918\n",
       "28     10031         2909\n",
       "29     10032         2411\n",
       "..       ...          ...\n",
       "217    11385         3049\n",
       "218    11411          557\n",
       "219    11412         1240\n",
       "220    11413         1402\n",
       "221    11414          609\n",
       "222    11415          426\n",
       "223    11416          839\n",
       "224    11417         1122\n",
       "225    11418         1319\n",
       "226    11419         1601\n",
       "227    11420         1667\n",
       "228    11421          929\n",
       "229    11422          806\n",
       "230    11423          910\n",
       "231    11426          377\n",
       "232    11427          546\n",
       "233    11428          565\n",
       "234    11429          856\n",
       "235    11430           19\n",
       "236    11432         2650\n",
       "237    11433         2057\n",
       "238    11434         3883\n",
       "239    11435         1851\n",
       "240    11436          635\n",
       "241    11451            1\n",
       "242    11691         3193\n",
       "243    11692          921\n",
       "244    11693          864\n",
       "245    11694          623\n",
       "246    11697           94\n",
       "\n",
       "[247 rows x 2 columns]"
      ]
     },
     "execution_count": 106,
     "metadata": {},
     "output_type": "execute_result"
    }
   ],
   "source": [
    "crime_zipcode"
   ]
  },
  {
   "cell_type": "markdown",
   "metadata": {},
   "source": [
    "# Export final crime counts"
   ]
  },
  {
   "cell_type": "code",
   "execution_count": 108,
   "metadata": {
    "collapsed": true
   },
   "outputs": [],
   "source": [
    "crime_zipcode.to_csv('C:\\Users\\Vishwajeet\\Documents\\Python Scripts\\Homeless\\VYS217\\Data_vys217\\Crime\\intermittent\\crimes_counts.csv')"
   ]
  },
  {
   "cell_type": "markdown",
   "metadata": {},
   "source": [
    "# Plot"
   ]
  },
  {
   "cell_type": "code",
   "execution_count": 132,
   "metadata": {
    "collapsed": false
   },
   "outputs": [
    {
     "data": {
      "text/plain": [
       "(0, 5)"
      ]
     },
     "execution_count": 132,
     "metadata": {},
     "output_type": "execute_result"
    },
    {
     "data": {
      "image/png": "[encoded data removed]",
      "text/plain": [
       "<matplotlib.figure.Figure at 0x2e8e67b8>"
      ]
     },
     "metadata": {},
     "output_type": "display_data"
    }
   ],
   "source": [
    "crime_zipcode.crime_count.hist(bins=1000)\n",
    "plt.ylim(0,5)"
   ]
  },
  {
   "cell_type": "code",
   "execution_count": null,
   "metadata": {
    "collapsed": true
   },
   "outputs": [],
   "source": []
  }
 ],
 "metadata": {
  "anaconda-cloud": {},
  "kernelspec": {
   "display_name": "Python [Root]",
   "language": "python",
   "name": "Python [Root]"
  },
  "language_info": {
   "codemirror_mode": {
    "name": "ipython",
    "version": 2
   },
   "file_extension": ".py",
   "mimetype": "text/x-python",
   "name": "python",
   "nbconvert_exporter": "python",
   "pygments_lexer": "ipython2",
   "version": "2.7.12"
  }
 },
 "nbformat": 4,
 "nbformat_minor": 0
}
