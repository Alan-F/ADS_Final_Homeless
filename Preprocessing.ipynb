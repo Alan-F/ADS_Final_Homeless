{
 "cells": [
  {
   "cell_type": "code",
   "execution_count": 1,
   "metadata": {
    "collapsed": true
   },
   "outputs": [],
   "source": [
    "import pandas as pd\n",
    "import os "
   ]
  },
  {
   "cell_type": "code",
   "execution_count": 2,
   "metadata": {
    "collapsed": false
   },
   "outputs": [
    {
     "data": {
      "text/plain": [
       "'/gws/open/NYCOpenData/nycopendata/data'"
      ]
     },
     "execution_count": 2,
     "metadata": {},
     "output_type": "execute_result"
    }
   ],
   "source": [
    "os.getenv(\"DFDATA\")"
   ]
  },
  {
   "cell_type": "code",
   "execution_count": 3,
   "metadata": {
    "collapsed": false
   },
   "outputs": [
    {
     "name": "stderr",
     "output_type": "stream",
     "text": [
      "/opt/rh/anaconda/root/envs/PUI2016_Python3/lib/python3.5/site-packages/IPython/core/interactiveshell.py:2717: DtypeWarning: Columns (8,17,18,20,37,38,39,40,41,44,45,46,47,48) have mixed types. Specify dtype option on import or set low_memory=False.\n",
      "  interactivity=interactivity, compiler=compiler, result=result)\n"
     ]
    }
   ],
   "source": [
    "file_path = os.getenv(\"DFDATA\")+\"/erm2-nwe9/1428423969/erm2-nwe9\"\n",
    "\n",
    "dataframe = pd.read_csv(file_path)\n",
    "#dataframe = dataframe.dropna(axis=0)"
   ]
  },
  {
   "cell_type": "code",
   "execution_count": 4,
   "metadata": {
    "collapsed": false
   },
   "outputs": [
    {
     "data": {
      "text/html": [
       "<div>\n",
       "<table border=\"1\" class=\"dataframe\">\n",
       "  <thead>\n",
       "    <tr style=\"text-align: right;\">\n",
       "      <th></th>\n",
       "      <th>Unique Key</th>\n",
       "      <th>Created Date</th>\n",
       "      <th>Closed Date</th>\n",
       "      <th>Agency</th>\n",
       "      <th>Agency Name</th>\n",
       "      <th>Complaint Type</th>\n",
       "      <th>Descriptor</th>\n",
       "      <th>Location Type</th>\n",
       "      <th>Incident Zip</th>\n",
       "      <th>Incident Address</th>\n",
       "      <th>...</th>\n",
       "      <th>Bridge Highway Name</th>\n",
       "      <th>Bridge Highway Direction</th>\n",
       "      <th>Road Ramp</th>\n",
       "      <th>Bridge Highway Segment</th>\n",
       "      <th>Garage Lot Name</th>\n",
       "      <th>Ferry Direction</th>\n",
       "      <th>Ferry Terminal Name</th>\n",
       "      <th>Latitude</th>\n",
       "      <th>Longitude</th>\n",
       "      <th>Location</th>\n",
       "    </tr>\n",
       "  </thead>\n",
       "  <tbody>\n",
       "    <tr>\n",
       "      <th>0</th>\n",
       "      <td>30343932</td>\n",
       "      <td>04/07/2015 02:14:53 AM</td>\n",
       "      <td>NaN</td>\n",
       "      <td>NYPD</td>\n",
       "      <td>New York City Police Department</td>\n",
       "      <td>Noise - Street/Sidewalk</td>\n",
       "      <td>Loud Talking</td>\n",
       "      <td>Street/Sidewalk</td>\n",
       "      <td>10452</td>\n",
       "      <td>1466 TOWNSEND AVENUE</td>\n",
       "      <td>...</td>\n",
       "      <td>NaN</td>\n",
       "      <td>NaN</td>\n",
       "      <td>NaN</td>\n",
       "      <td>NaN</td>\n",
       "      <td>NaN</td>\n",
       "      <td>NaN</td>\n",
       "      <td>NaN</td>\n",
       "      <td>40.841350</td>\n",
       "      <td>-73.915726</td>\n",
       "      <td>(40.841349810978734, -73.91572605845745)</td>\n",
       "    </tr>\n",
       "    <tr>\n",
       "      <th>1</th>\n",
       "      <td>30343181</td>\n",
       "      <td>04/07/2015 02:14:15 AM</td>\n",
       "      <td>NaN</td>\n",
       "      <td>DOHMH</td>\n",
       "      <td>Department of Health and Mental Hygiene</td>\n",
       "      <td>Food Establishment</td>\n",
       "      <td>No Permit or License</td>\n",
       "      <td>Restaurant/Bar/Deli/Bakery</td>\n",
       "      <td>10014</td>\n",
       "      <td>636 HUDSON STREET</td>\n",
       "      <td>...</td>\n",
       "      <td>NaN</td>\n",
       "      <td>NaN</td>\n",
       "      <td>NaN</td>\n",
       "      <td>NaN</td>\n",
       "      <td>NaN</td>\n",
       "      <td>NaN</td>\n",
       "      <td>NaN</td>\n",
       "      <td>40.738582</td>\n",
       "      <td>-74.005305</td>\n",
       "      <td>(40.73858206892632, -74.00530455432967)</td>\n",
       "    </tr>\n",
       "    <tr>\n",
       "      <th>2</th>\n",
       "      <td>30339438</td>\n",
       "      <td>04/07/2015 02:05:12 AM</td>\n",
       "      <td>NaN</td>\n",
       "      <td>DOHMH</td>\n",
       "      <td>Department of Health and Mental Hygiene</td>\n",
       "      <td>Rodent</td>\n",
       "      <td>Rat Sighting</td>\n",
       "      <td>3+ Family Apt. Building</td>\n",
       "      <td>10467</td>\n",
       "      <td>3343 DECATUR AVE</td>\n",
       "      <td>...</td>\n",
       "      <td>NaN</td>\n",
       "      <td>NaN</td>\n",
       "      <td>NaN</td>\n",
       "      <td>NaN</td>\n",
       "      <td>NaN</td>\n",
       "      <td>NaN</td>\n",
       "      <td>NaN</td>\n",
       "      <td>40.877761</td>\n",
       "      <td>-73.873169</td>\n",
       "      <td>(40.87776051416274, -73.87316907593919)</td>\n",
       "    </tr>\n",
       "    <tr>\n",
       "      <th>3</th>\n",
       "      <td>30340375</td>\n",
       "      <td>04/07/2015 01:59:24 AM</td>\n",
       "      <td>NaN</td>\n",
       "      <td>NYPD</td>\n",
       "      <td>New York City Police Department</td>\n",
       "      <td>Illegal Parking</td>\n",
       "      <td>Blocked Sidewalk</td>\n",
       "      <td>Street/Sidewalk</td>\n",
       "      <td>11385</td>\n",
       "      <td>63-20 60 PLACE</td>\n",
       "      <td>...</td>\n",
       "      <td>NaN</td>\n",
       "      <td>NaN</td>\n",
       "      <td>NaN</td>\n",
       "      <td>NaN</td>\n",
       "      <td>NaN</td>\n",
       "      <td>NaN</td>\n",
       "      <td>NaN</td>\n",
       "      <td>40.710539</td>\n",
       "      <td>-73.902704</td>\n",
       "      <td>(40.710539058911515, -73.90270416257462)</td>\n",
       "    </tr>\n",
       "    <tr>\n",
       "      <th>4</th>\n",
       "      <td>30340097</td>\n",
       "      <td>04/07/2015 01:58:48 AM</td>\n",
       "      <td>NaN</td>\n",
       "      <td>NYPD</td>\n",
       "      <td>New York City Police Department</td>\n",
       "      <td>Noise - Commercial</td>\n",
       "      <td>Loud Music/Party</td>\n",
       "      <td>Club/Bar/Restaurant</td>\n",
       "      <td>11372</td>\n",
       "      <td>70-06 ROOSEVELT AVENUE</td>\n",
       "      <td>...</td>\n",
       "      <td>NaN</td>\n",
       "      <td>NaN</td>\n",
       "      <td>NaN</td>\n",
       "      <td>NaN</td>\n",
       "      <td>NaN</td>\n",
       "      <td>NaN</td>\n",
       "      <td>NaN</td>\n",
       "      <td>40.746429</td>\n",
       "      <td>-73.895340</td>\n",
       "      <td>(40.74642854264474, -73.89533997952648)</td>\n",
       "    </tr>\n",
       "  </tbody>\n",
       "</table>\n",
       "<p>5 rows × 52 columns</p>\n",
       "</div>"
      ],
      "text/plain": [
       "   Unique Key            Created Date Closed Date Agency  \\\n",
       "0    30343932  04/07/2015 02:14:53 AM         NaN   NYPD   \n",
       "1    30343181  04/07/2015 02:14:15 AM         NaN  DOHMH   \n",
       "2    30339438  04/07/2015 02:05:12 AM         NaN  DOHMH   \n",
       "3    30340375  04/07/2015 01:59:24 AM         NaN   NYPD   \n",
       "4    30340097  04/07/2015 01:58:48 AM         NaN   NYPD   \n",
       "\n",
       "                               Agency Name           Complaint Type  \\\n",
       "0          New York City Police Department  Noise - Street/Sidewalk   \n",
       "1  Department of Health and Mental Hygiene       Food Establishment   \n",
       "2  Department of Health and Mental Hygiene                   Rodent   \n",
       "3          New York City Police Department          Illegal Parking   \n",
       "4          New York City Police Department       Noise - Commercial   \n",
       "\n",
       "             Descriptor               Location Type Incident Zip  \\\n",
       "0          Loud Talking             Street/Sidewalk        10452   \n",
       "1  No Permit or License  Restaurant/Bar/Deli/Bakery        10014   \n",
       "2          Rat Sighting     3+ Family Apt. Building        10467   \n",
       "3      Blocked Sidewalk             Street/Sidewalk        11385   \n",
       "4      Loud Music/Party         Club/Bar/Restaurant        11372   \n",
       "\n",
       "         Incident Address                    ...                     \\\n",
       "0    1466 TOWNSEND AVENUE                    ...                      \n",
       "1       636 HUDSON STREET                    ...                      \n",
       "2        3343 DECATUR AVE                    ...                      \n",
       "3          63-20 60 PLACE                    ...                      \n",
       "4  70-06 ROOSEVELT AVENUE                    ...                      \n",
       "\n",
       "  Bridge Highway Name Bridge Highway Direction Road Ramp  \\\n",
       "0                 NaN                      NaN       NaN   \n",
       "1                 NaN                      NaN       NaN   \n",
       "2                 NaN                      NaN       NaN   \n",
       "3                 NaN                      NaN       NaN   \n",
       "4                 NaN                      NaN       NaN   \n",
       "\n",
       "  Bridge Highway Segment Garage Lot Name Ferry Direction Ferry Terminal Name  \\\n",
       "0                    NaN             NaN             NaN                 NaN   \n",
       "1                    NaN             NaN             NaN                 NaN   \n",
       "2                    NaN             NaN             NaN                 NaN   \n",
       "3                    NaN             NaN             NaN                 NaN   \n",
       "4                    NaN             NaN             NaN                 NaN   \n",
       "\n",
       "    Latitude  Longitude                                  Location  \n",
       "0  40.841350 -73.915726  (40.841349810978734, -73.91572605845745)  \n",
       "1  40.738582 -74.005305   (40.73858206892632, -74.00530455432967)  \n",
       "2  40.877761 -73.873169   (40.87776051416274, -73.87316907593919)  \n",
       "3  40.710539 -73.902704  (40.710539058911515, -73.90270416257462)  \n",
       "4  40.746429 -73.895340   (40.74642854264474, -73.89533997952648)  \n",
       "\n",
       "[5 rows x 52 columns]"
      ]
     },
     "execution_count": 4,
     "metadata": {},
     "output_type": "execute_result"
    }
   ],
   "source": [
    "dataframe.head(5)"
   ]
  },
  {
   "cell_type": "code",
   "execution_count": 5,
   "metadata": {
    "collapsed": false
   },
   "outputs": [
    {
     "data": {
      "text/plain": [
       "array(['Noise - Street/Sidewalk', 'Food Establishment', 'Rodent',\n",
       "       'Illegal Parking', 'Noise - Commercial', 'Blocked Driveway',\n",
       "       'Overgrown Tree/Branches', 'Benefit Card Replacement',\n",
       "       'Noise - Vehicle', 'Root/Sewer/Sidewalk Condition',\n",
       "       'Homeless Encampment', 'Noise - Park', 'Curb Condition',\n",
       "       'Taxi Complaint', 'Consumer Complaint', 'Highway Condition',\n",
       "       'Street Condition', 'Street Light Condition', 'Derelict Vehicle',\n",
       "       'For Hire Vehicle Report', 'Opinion for the Mayor', 'Construction',\n",
       "       'Animal Abuse', 'UNSANITARY CONDITION', 'HEAT/HOT WATER',\n",
       "       'DOOR/WINDOW', 'FLOORING/STAIRS', 'ELECTRIC', 'SAFETY', 'PLUMBING',\n",
       "       'Noise', 'Graffiti', 'Derelict Vehicles', 'Water System',\n",
       "       'Street Sign - Missing', 'Traffic Signal Condition',\n",
       "       'Dirty Conditions', 'Unsanitary Animal Pvt Property',\n",
       "       'Maintenance or Facility', 'Taxi Compliment',\n",
       "       'Sanitation Condition', 'Missed Collection (All Materials)',\n",
       "       'Street Sign - Damaged', 'Sidewalk Condition',\n",
       "       'DCA Literature Request', 'For Hire Vehicle Complaint',\n",
       "       'Indoor Air Quality', 'Panhandling', 'Recycling Enforcement',\n",
       "       'Air Quality', 'Vacant Lot', 'DOF Literature Request',\n",
       "       'Water Conservation', 'Request for Information', 'Misc. Comments',\n",
       "       'Hazardous Materials', 'Taxi Report', 'Illegal Tree Damage',\n",
       "       'Broken Muni Meter', 'Sewer', 'Food Poisoning', 'Other Enforcement',\n",
       "       'Noise - House of Worship', 'Noise - Helicopter', 'Indoor Sewage',\n",
       "       'Homeless Person Assistance', 'HPD Literature Request',\n",
       "       'DPR Internal', 'Derelict Bicycle', 'Water Quality', 'Damaged Tree',\n",
       "       'DOT Literature Request',\n",
       "       'DCA / DOH New License Application Request',\n",
       "       'Street Sign - Dangling', 'Overflowing Litter Baskets',\n",
       "       'Violation of Park Rules', 'Lead', 'Asbestos',\n",
       "       'Highway Sign - Missing', 'SCRIE', 'Unsanitary Pigeon Condition',\n",
       "       'Drinking', 'Vending', 'Unsanitary Animal Facility',\n",
       "       'Drinking Water', 'City Vehicle Placard Complaint', 'Dead Tree',\n",
       "       'DOF Parking - Tax Exemption', 'Litter Basket / Request',\n",
       "       'Bus Stop Shelter Placement', 'Fire Safety Director - F58', 'Mold',\n",
       "       'Disorderly Youth', 'Ferry Complaint', 'Smoking', 'Traffic',\n",
       "       'Urinating in Public', 'Illegal Animal Kept as Pet',\n",
       "       'Animal Facility - No Permit', 'Municipal Parking Facility',\n",
       "       'Bike/Roller/Skate Chronic', 'Bridge Condition', 'Industrial Waste',\n",
       "       'Public Payphone Complaint', 'DOF Property - Reduction Issue',\n",
       "       'School Maintenance', 'Sweeping/Missed', 'Window Guard',\n",
       "       'Adopt-A-Basket', 'Non-Residential Heat', 'Animal in a Park',\n",
       "       'Agency Issues', 'DFTA Literature Request', 'EAP Inspection - F59',\n",
       "       'DEP Literature Request', 'Senior Center Complaint',\n",
       "       'Posting Advertisement', 'Overflowing Recycling Baskets',\n",
       "       'Fire Alarm - Reinspection', 'Plant', 'WATER LEAK', 'GENERAL',\n",
       "       'PAINT/PLASTER', 'APPLIANCE', 'OUTSIDE BUILDING', 'ELEVATOR',\n",
       "       'Standing Water', 'Compliment', 'Building/Use',\n",
       "       'Special Projects Inspection Team (SPIT)',\n",
       "       'General Construction/Plumbing', 'Elevator', 'Plumbing',\n",
       "       'Found Property', 'Cranes and Derricks', 'Boilers',\n",
       "       'Sweeping/Inadequate', 'Electrical', 'Ferry Inquiry',\n",
       "       'BEST/Site Safety', 'Broken Parking Meter',\n",
       "       'Beach/Pool/Sauna Complaint', 'Parking Card',\n",
       "       'Investigations and Discipline (IAD)', 'Highway Sign - Dangling',\n",
       "       'Stalled Sites', 'Unleashed Dog', 'Special Enforcement',\n",
       "       'Complaint', 'Legal Services Provider Complaint',\n",
       "       'OEM Literature Request', 'Miscellaneous Categories',\n",
       "       'Emergency Response Team (ERT)', 'Open Flame Permit',\n",
       "       'Internal Code', 'Literature Request', 'Harboring Bees/Wasps',\n",
       "       'Bike Rack Condition', 'Snow', 'Ferry Permit', 'Tunnel Condition',\n",
       "       'Squeegee', 'Scaffold Safety', 'Collection Truck Noise',\n",
       "       'Fire Alarm - Addition', 'DHS Income Savings Requirement',\n",
       "       'Transportation Provider Complaint', 'Fire Alarm - New System',\n",
       "       'Fire Alarm - Modification', 'Highway Sign - Damaged',\n",
       "       'Public Toilet', 'Rangehood', 'Public Assembly',\n",
       "       'Illegal Animal Sold', 'Laboratory', 'Bottled Water', 'Tattooing',\n",
       "       'Illegal Fireworks', 'Invitation',\n",
       "       'Special Natural Area District (SNAD)', 'Lifeguard',\n",
       "       'Forensic Engineering', 'Standpipe - Mechanical',\n",
       "       'Fire Alarm - Replacement', 'Calorie Labeling',\n",
       "       'Radioactive Material', 'Tanning', 'Hazmat Storage/Use',\n",
       "       'DPR Literature Request', 'Sprinkler - Mechanical',\n",
       "       'X-Ray Machine/Equipment', 'SG-98', 'WNW', 'WLWP', 'SG-51', 'SDSC',\n",
       "       'SG-99', 'SG-71', 'SDEP', 'STSK', 'IGR', 'Poison Ivy', 'DWD',\n",
       "       'Building Condition', 'Public Assembly - Temporary', 'Trans Fat',\n",
       "       'Gas Station Discharge Lines', 'VACANT APARTMENT', 'HEATING',\n",
       "       'NONCONST', 'CONSTRUCTION', 'GENERAL CONSTRUCTION',\n",
       "       'PAINT - PLASTER', 'Request Xmas Tree Collection',\n",
       "       'Sweeping/Missed-Inadequate', 'STRUCTURAL', 'Sewer  ',\n",
       "       'Water System  ', 'Summer Camp', 'Portable Toilet', 'SNW',\n",
       "       'Noise Survey', 'Comment', 'Teaching/Learning/Instruction', 'Forms',\n",
       "       'Unlicensed Dog', 'Home Care Provider Complaint', 'Lost Property',\n",
       "       'DOE Complaint or Compliment', 'Discipline and Suspension',\n",
       "       'Micro Switch', 'Registration and Transfers', 'Parent Leadership',\n",
       "       'Safety', 'Interior Demo', 'Health', 'No Child Left Behind',\n",
       "       'OEM Disabled Vehicle', 'Trapping Pigeon',\n",
       "       'DOF Property - Payment Issue', 'DOF Parking - Payment Issue',\n",
       "       'DOF Property - RPIE Issue', 'DOF Property - City Rebate',\n",
       "       'DOF Parking - Request Status', 'Illegal Animal - Sold/Kept'], dtype=object)"
      ]
     },
     "execution_count": 5,
     "metadata": {},
     "output_type": "execute_result"
    }
   ],
   "source": [
    "dataframe[\"Complaint Type\"].unique()"
   ]
  },
  {
   "cell_type": "markdown",
   "metadata": {},
   "source": [
    "Two types complaint related to Homeless: Homeless Encampment, Homeless Person Assistance"
   ]
  },
  {
   "cell_type": "code",
   "execution_count": 6,
   "metadata": {
    "collapsed": false
   },
   "outputs": [],
   "source": [
    "new_frame = dataframe[dataframe[\"Complaint Type\"] == \"Homeless Encampment\"]"
   ]
  },
  {
   "cell_type": "code",
   "execution_count": 7,
   "metadata": {
    "collapsed": false
   },
   "outputs": [],
   "source": [
    "selectt = new_frame[(new_frame[\"Latitude\"] != None)]"
   ]
  },
  {
   "cell_type": "code",
   "execution_count": 8,
   "metadata": {
    "collapsed": false
   },
   "outputs": [],
   "source": [
    "selectt = selectt[(selectt[\"Longitude\"] != None)]"
   ]
  },
  {
   "cell_type": "code",
   "execution_count": 9,
   "metadata": {
    "collapsed": false
   },
   "outputs": [],
   "source": [
    "selectt = selectt.drop([\"Descriptor\",\"Bridge Highway Name\",\"Bridge Highway Direction\",\"Road Ramp\",\"Bridge Highway Segment\"\n",
    "                      ,\"Garage Lot Name\",\"Ferry Direction\",\"Ferry Terminal Name\"],1)"
   ]
  },
  {
   "cell_type": "code",
   "execution_count": 10,
   "metadata": {
    "collapsed": false
   },
   "outputs": [
    {
     "data": {
      "text/html": [
       "<div>\n",
       "<table border=\"1\" class=\"dataframe\">\n",
       "  <thead>\n",
       "    <tr style=\"text-align: right;\">\n",
       "      <th></th>\n",
       "      <th>Unique Key</th>\n",
       "      <th>Created Date</th>\n",
       "      <th>Closed Date</th>\n",
       "      <th>Agency</th>\n",
       "      <th>Agency Name</th>\n",
       "      <th>Complaint Type</th>\n",
       "      <th>Location Type</th>\n",
       "      <th>Incident Zip</th>\n",
       "      <th>Incident Address</th>\n",
       "      <th>Street Name</th>\n",
       "      <th>...</th>\n",
       "      <th>School State</th>\n",
       "      <th>School Zip</th>\n",
       "      <th>School Not Found</th>\n",
       "      <th>School or Citywide Complaint</th>\n",
       "      <th>Vehicle Type</th>\n",
       "      <th>Taxi Company Borough</th>\n",
       "      <th>Taxi Pick Up Location</th>\n",
       "      <th>Latitude</th>\n",
       "      <th>Longitude</th>\n",
       "      <th>Location</th>\n",
       "    </tr>\n",
       "  </thead>\n",
       "  <tbody>\n",
       "    <tr>\n",
       "      <th>21</th>\n",
       "      <td>30341247</td>\n",
       "      <td>04/07/2015 01:31:29 AM</td>\n",
       "      <td>04/07/2015 03:08:40 AM</td>\n",
       "      <td>NYPD</td>\n",
       "      <td>New York City Police Department</td>\n",
       "      <td>Homeless Encampment</td>\n",
       "      <td>Street/Sidewalk</td>\n",
       "      <td>11205</td>\n",
       "      <td>NaN</td>\n",
       "      <td>NaN</td>\n",
       "      <td>...</td>\n",
       "      <td>Unspecified</td>\n",
       "      <td>Unspecified</td>\n",
       "      <td>N</td>\n",
       "      <td>NaN</td>\n",
       "      <td>NaN</td>\n",
       "      <td>NaN</td>\n",
       "      <td>NaN</td>\n",
       "      <td>40.693205</td>\n",
       "      <td>-73.953990</td>\n",
       "      <td>(40.6932048467267, -73.95398996627262)</td>\n",
       "    </tr>\n",
       "    <tr>\n",
       "      <th>36</th>\n",
       "      <td>30339846</td>\n",
       "      <td>04/07/2015 01:05:00 AM</td>\n",
       "      <td>NaN</td>\n",
       "      <td>NYPD</td>\n",
       "      <td>New York City Police Department</td>\n",
       "      <td>Homeless Encampment</td>\n",
       "      <td>Street/Sidewalk</td>\n",
       "      <td>11215</td>\n",
       "      <td>296 15 STREET</td>\n",
       "      <td>15 STREET</td>\n",
       "      <td>...</td>\n",
       "      <td>Unspecified</td>\n",
       "      <td>Unspecified</td>\n",
       "      <td>N</td>\n",
       "      <td>NaN</td>\n",
       "      <td>NaN</td>\n",
       "      <td>NaN</td>\n",
       "      <td>NaN</td>\n",
       "      <td>40.664132</td>\n",
       "      <td>-73.986368</td>\n",
       "      <td>(40.66413235965906, -73.98636773266446)</td>\n",
       "    </tr>\n",
       "    <tr>\n",
       "      <th>524</th>\n",
       "      <td>30338420</td>\n",
       "      <td>04/06/2015 09:15:20 PM</td>\n",
       "      <td>04/06/2015 11:25:38 PM</td>\n",
       "      <td>NYPD</td>\n",
       "      <td>New York City Police Department</td>\n",
       "      <td>Homeless Encampment</td>\n",
       "      <td>Street/Sidewalk</td>\n",
       "      <td>11222</td>\n",
       "      <td>55 ECKFORD STREET</td>\n",
       "      <td>ECKFORD STREET</td>\n",
       "      <td>...</td>\n",
       "      <td>Unspecified</td>\n",
       "      <td>Unspecified</td>\n",
       "      <td>N</td>\n",
       "      <td>NaN</td>\n",
       "      <td>NaN</td>\n",
       "      <td>NaN</td>\n",
       "      <td>NaN</td>\n",
       "      <td>40.721795</td>\n",
       "      <td>-73.948032</td>\n",
       "      <td>(40.7217945184291, -73.94803206673042)</td>\n",
       "    </tr>\n",
       "    <tr>\n",
       "      <th>878</th>\n",
       "      <td>30343247</td>\n",
       "      <td>04/06/2015 07:13:21 PM</td>\n",
       "      <td>04/06/2015 09:48:55 PM</td>\n",
       "      <td>NYPD</td>\n",
       "      <td>New York City Police Department</td>\n",
       "      <td>Homeless Encampment</td>\n",
       "      <td>Residential Building/House</td>\n",
       "      <td>11215</td>\n",
       "      <td>14 PROSPECT PARK SOUTHWEST</td>\n",
       "      <td>PROSPECT PARK SOUTHWEST</td>\n",
       "      <td>...</td>\n",
       "      <td>Unspecified</td>\n",
       "      <td>Unspecified</td>\n",
       "      <td>N</td>\n",
       "      <td>NaN</td>\n",
       "      <td>NaN</td>\n",
       "      <td>NaN</td>\n",
       "      <td>NaN</td>\n",
       "      <td>40.660374</td>\n",
       "      <td>-73.978594</td>\n",
       "      <td>(40.660373573167256, -73.97859400470534)</td>\n",
       "    </tr>\n",
       "    <tr>\n",
       "      <th>1442</th>\n",
       "      <td>30344376</td>\n",
       "      <td>04/06/2015 04:23:11 PM</td>\n",
       "      <td>04/06/2015 09:55:17 PM</td>\n",
       "      <td>NYPD</td>\n",
       "      <td>New York City Police Department</td>\n",
       "      <td>Homeless Encampment</td>\n",
       "      <td>Street/Sidewalk</td>\n",
       "      <td>10003</td>\n",
       "      <td>840 BROADWAY</td>\n",
       "      <td>BROADWAY</td>\n",
       "      <td>...</td>\n",
       "      <td>Unspecified</td>\n",
       "      <td>Unspecified</td>\n",
       "      <td>N</td>\n",
       "      <td>NaN</td>\n",
       "      <td>NaN</td>\n",
       "      <td>NaN</td>\n",
       "      <td>NaN</td>\n",
       "      <td>40.733861</td>\n",
       "      <td>-73.990958</td>\n",
       "      <td>(40.73386086087273, -73.99095763857336)</td>\n",
       "    </tr>\n",
       "  </tbody>\n",
       "</table>\n",
       "<p>5 rows × 44 columns</p>\n",
       "</div>"
      ],
      "text/plain": [
       "      Unique Key            Created Date             Closed Date Agency  \\\n",
       "21      30341247  04/07/2015 01:31:29 AM  04/07/2015 03:08:40 AM   NYPD   \n",
       "36      30339846  04/07/2015 01:05:00 AM                     NaN   NYPD   \n",
       "524     30338420  04/06/2015 09:15:20 PM  04/06/2015 11:25:38 PM   NYPD   \n",
       "878     30343247  04/06/2015 07:13:21 PM  04/06/2015 09:48:55 PM   NYPD   \n",
       "1442    30344376  04/06/2015 04:23:11 PM  04/06/2015 09:55:17 PM   NYPD   \n",
       "\n",
       "                          Agency Name       Complaint Type  \\\n",
       "21    New York City Police Department  Homeless Encampment   \n",
       "36    New York City Police Department  Homeless Encampment   \n",
       "524   New York City Police Department  Homeless Encampment   \n",
       "878   New York City Police Department  Homeless Encampment   \n",
       "1442  New York City Police Department  Homeless Encampment   \n",
       "\n",
       "                   Location Type Incident Zip            Incident Address  \\\n",
       "21               Street/Sidewalk        11205                         NaN   \n",
       "36               Street/Sidewalk        11215               296 15 STREET   \n",
       "524              Street/Sidewalk        11222           55 ECKFORD STREET   \n",
       "878   Residential Building/House        11215  14 PROSPECT PARK SOUTHWEST   \n",
       "1442             Street/Sidewalk        10003                840 BROADWAY   \n",
       "\n",
       "                  Street Name                    ...                     \\\n",
       "21                        NaN                    ...                      \n",
       "36                  15 STREET                    ...                      \n",
       "524            ECKFORD STREET                    ...                      \n",
       "878   PROSPECT PARK SOUTHWEST                    ...                      \n",
       "1442                 BROADWAY                    ...                      \n",
       "\n",
       "     School State   School Zip School Not Found School or Citywide Complaint  \\\n",
       "21    Unspecified  Unspecified                N                          NaN   \n",
       "36    Unspecified  Unspecified                N                          NaN   \n",
       "524   Unspecified  Unspecified                N                          NaN   \n",
       "878   Unspecified  Unspecified                N                          NaN   \n",
       "1442  Unspecified  Unspecified                N                          NaN   \n",
       "\n",
       "     Vehicle Type Taxi Company Borough Taxi Pick Up Location   Latitude  \\\n",
       "21            NaN                  NaN                   NaN  40.693205   \n",
       "36            NaN                  NaN                   NaN  40.664132   \n",
       "524           NaN                  NaN                   NaN  40.721795   \n",
       "878           NaN                  NaN                   NaN  40.660374   \n",
       "1442          NaN                  NaN                   NaN  40.733861   \n",
       "\n",
       "      Longitude                                  Location  \n",
       "21   -73.953990    (40.6932048467267, -73.95398996627262)  \n",
       "36   -73.986368   (40.66413235965906, -73.98636773266446)  \n",
       "524  -73.948032    (40.7217945184291, -73.94803206673042)  \n",
       "878  -73.978594  (40.660373573167256, -73.97859400470534)  \n",
       "1442 -73.990958   (40.73386086087273, -73.99095763857336)  \n",
       "\n",
       "[5 rows x 44 columns]"
      ]
     },
     "execution_count": 10,
     "metadata": {},
     "output_type": "execute_result"
    }
   ],
   "source": [
    "selectt.head(5)"
   ]
  },
  {
   "cell_type": "code",
   "execution_count": 11,
   "metadata": {
    "collapsed": false
   },
   "outputs": [
    {
     "data": {
      "text/plain": [
       "<matplotlib.axes._subplots.AxesSubplot at 0x7f95433f5438>"
      ]
     },
     "execution_count": 11,
     "metadata": {},
     "output_type": "execute_result"
    },
    {
     "data": {
      "image/png": "[encoded data removed]",
      "text/plain": [
       "<matplotlib.figure.Figure at 0x7f95433caba8>"
      ]
     },
     "metadata": {},
     "output_type": "display_data"
    }
   ],
   "source": [
    "\n",
    "from matplotlib.pyplot import plot as plt\n",
    "\n",
    "%matplotlib inline\n",
    "\n",
    "a = selectt.groupby(\"Location Type\").count()\n",
    "a.plot(kind = \"bar\",legend=False)\n",
    "#plt.xticks(rotation =45)"
   ]
  },
  {
   "cell_type": "code",
   "execution_count": 12,
   "metadata": {
    "collapsed": false
   },
   "outputs": [],
   "source": [
    "output_csv = selectt[[\"Unique Key\",\"Created Date\",\"Incident Zip\", \"Latitude\",\"Longitude\",\"City\"]]"
   ]
  },
  {
   "cell_type": "code",
   "execution_count": 13,
   "metadata": {
    "collapsed": true
   },
   "outputs": [],
   "source": [
    "output_csv.to_csv(\"311_2015.csv\")"
   ]
  },
  {
   "cell_type": "code",
   "execution_count": 14,
   "metadata": {
    "collapsed": false
   },
   "outputs": [
    {
     "data": {
      "text/plain": [
       "Index(['Unique Key', 'Created Date', 'Incident Zip', 'Latitude', 'Longitude',\n",
       "       'City'],\n",
       "      dtype='object')"
      ]
     },
     "execution_count": 14,
     "metadata": {},
     "output_type": "execute_result"
    }
   ],
   "source": [
    "output_csv.columns"
   ]
  },
  {
   "cell_type": "code",
   "execution_count": 15,
   "metadata": {
    "collapsed": false
   },
   "outputs": [
    {
     "data": {
      "text/plain": [
       "Index(['Unique Key', 'Created Date', 'Closed Date', 'Agency', 'Agency Name',\n",
       "       'Complaint Type', 'Location Type', 'Incident Zip', 'Incident Address',\n",
       "       'Street Name', 'Cross Street 1', 'Cross Street 2',\n",
       "       'Intersection Street 1', 'Intersection Street 2', 'Address Type',\n",
       "       'City', 'Landmark', 'Facility Type', 'Status', 'Due Date',\n",
       "       'Resolution Action Updated Date', 'Community Board', 'Borough',\n",
       "       'X Coordinate (State Plane)', 'Y Coordinate (State Plane)',\n",
       "       'Park Facility Name', 'Park Borough', 'School Name', 'School Number',\n",
       "       'School Region', 'School Code', 'School Phone Number', 'School Address',\n",
       "       'School City', 'School State', 'School Zip', 'School Not Found',\n",
       "       'School or Citywide Complaint', 'Vehicle Type', 'Taxi Company Borough',\n",
       "       'Taxi Pick Up Location', 'Latitude', 'Longitude', 'Location'],\n",
       "      dtype='object')"
      ]
     },
     "execution_count": 15,
     "metadata": {},
     "output_type": "execute_result"
    }
   ],
   "source": [
    "selectt.columns"
   ]
  },
  {
   "cell_type": "code",
   "execution_count": 16,
   "metadata": {
    "collapsed": false
   },
   "outputs": [
    {
     "data": {
      "text/plain": [
       "Index(['Unique Key', 'Created Date', 'Closed Date', 'Agency', 'Agency Name',\n",
       "       'Complaint Type', 'Descriptor', 'Location Type', 'Incident Zip',\n",
       "       'Incident Address', 'Street Name', 'Cross Street 1', 'Cross Street 2',\n",
       "       'Intersection Street 1', 'Intersection Street 2', 'Address Type',\n",
       "       'City', 'Landmark', 'Facility Type', 'Status', 'Due Date',\n",
       "       'Resolution Action Updated Date', 'Community Board', 'Borough',\n",
       "       'X Coordinate (State Plane)', 'Y Coordinate (State Plane)',\n",
       "       'Park Facility Name', 'Park Borough', 'School Name', 'School Number',\n",
       "       'School Region', 'School Code', 'School Phone Number', 'School Address',\n",
       "       'School City', 'School State', 'School Zip', 'School Not Found',\n",
       "       'School or Citywide Complaint', 'Vehicle Type', 'Taxi Company Borough',\n",
       "       'Taxi Pick Up Location', 'Bridge Highway Name',\n",
       "       'Bridge Highway Direction', 'Road Ramp', 'Bridge Highway Segment',\n",
       "       'Garage Lot Name', 'Ferry Direction', 'Ferry Terminal Name', 'Latitude',\n",
       "       'Longitude', 'Location'],\n",
       "      dtype='object')"
      ]
     },
     "execution_count": 16,
     "metadata": {},
     "output_type": "execute_result"
    }
   ],
   "source": [
    "new_frame.columns"
   ]
  },
  {
   "cell_type": "code",
   "execution_count": 17,
   "metadata": {
    "collapsed": false
   },
   "outputs": [],
   "source": [
    "temp = new_frame[['Unique Key', 'Created Date', 'Closed Date', 'Agency', 'Agency Name',\n",
    "       'Complaint Type', 'Descriptor', 'Location Type', 'Incident Zip',\n",
    "       'Incident Address', 'Street Name', 'Cross Street 1', 'Cross Street 2',\n",
    "       'Intersection Street 1', 'Intersection Street 2', 'Address Type',\n",
    "       'City', 'Landmark', 'Facility Type', 'Status', 'Due Date', 'Latitude',\n",
    "       'Longitude', 'Location']]"
   ]
  },
  {
   "cell_type": "code",
   "execution_count": 28,
   "metadata": {
    "collapsed": false
   },
   "outputs": [
    {
     "name": "stderr",
     "output_type": "stream",
     "text": [
      "/opt/rh/anaconda/root/envs/PUI2016_Python3/lib/python3.5/site-packages/ipykernel/__main__.py:1: SettingWithCopyWarning: \n",
      "A value is trying to be set on a copy of a slice from a DataFrame.\n",
      "Try using .loc[row_indexer,col_indexer] = value instead\n",
      "\n",
      "See the caveats in the documentation: http://pandas.pydata.org/pandas-docs/stable/indexing.html#indexing-view-versus-copy\n",
      "  if __name__ == '__main__':\n"
     ]
    }
   ],
   "source": [
    "temp['streetlevel_id'] = temp['Cross Street 1'].astype(str).apply(lambda x : \"\".join(x.split()))+\"/\"+temp['Cross Street 2'].astype(str).apply(lambda x : \"\".join(x.split()))+\"/\"+temp['Intersection Street 1'].astype(str).apply(lambda x : \"\".join(x.split()))+\"/\"+temp['Intersection Street 2'].astype(str).apply(lambda x : \"\".join(x.split()))"
   ]
  },
  {
   "cell_type": "code",
   "execution_count": 29,
   "metadata": {
    "collapsed": false
   },
   "outputs": [
    {
     "name": "stderr",
     "output_type": "stream",
     "text": [
      "/opt/rh/anaconda/root/envs/PUI2016_Python3/lib/python3.5/site-packages/ipykernel/__main__.py:1: SettingWithCopyWarning: \n",
      "A value is trying to be set on a copy of a slice from a DataFrame.\n",
      "Try using .loc[row_indexer,col_indexer] = value instead\n",
      "\n",
      "See the caveats in the documentation: http://pandas.pydata.org/pandas-docs/stable/indexing.html#indexing-view-versus-copy\n",
      "  if __name__ == '__main__':\n"
     ]
    }
   ],
   "source": [
    "temp[\"Created Date\"] = pd.to_datetime(temp[\"Created Date\"].astype(str))\n",
    "time_street = temp.set_index(\"Created Date\")"
   ]
  },
  {
   "cell_type": "code",
   "execution_count": 30,
   "metadata": {
    "collapsed": false
   },
   "outputs": [],
   "source": [
    "result = temp.groupby([\"streetlevel_id\",\"Created Date\"]).count().unstack()[\"Unique Key\"]"
   ]
  },
  {
   "cell_type": "code",
   "execution_count": 31,
   "metadata": {
    "collapsed": false
   },
   "outputs": [],
   "source": [
    "a = result.fillna(0)"
   ]
  },
  {
   "cell_type": "code",
   "execution_count": 32,
   "metadata": {
    "collapsed": true
   },
   "outputs": [],
   "source": [
    "b = a.transpose()"
   ]
  },
  {
   "cell_type": "code",
   "execution_count": 33,
   "metadata": {
    "collapsed": false
   },
   "outputs": [
    {
     "data": {
      "text/html": [
       "<div>\n",
       "<table border=\"1\" class=\"dataframe\">\n",
       "  <thead>\n",
       "    <tr style=\"text-align: right;\">\n",
       "      <th>streetlevel_id</th>\n",
       "      <th>100AVENUE/104AVENUE/nan/nan</th>\n",
       "      <th>101AVENUE/103AVENUE/nan/nan</th>\n",
       "      <th>101STREET/102STREET/nan/nan</th>\n",
       "      <th>102AVENUE/102ROAD/nan/nan</th>\n",
       "      <th>103AVENUE/104AVENUE/nan/nan</th>\n",
       "      <th>103AVENUE/LIBERTYAVENUE/nan/nan</th>\n",
       "      <th>103STREET/104STREET/nan/nan</th>\n",
       "      <th>103STREET/133AVENUE/nan/nan</th>\n",
       "      <th>104ROAD/HOLLISAVENUE/nan/nan</th>\n",
       "      <th>104STREET/106STREET/nan/nan</th>\n",
       "      <th>...</th>\n",
       "      <th>nan/nan/YELLOWSTONEBOULEVARD/65AVENUE</th>\n",
       "      <th>nan/nan/YELLOWSTONEBOULEVARD/68AVENUE</th>\n",
       "      <th>nan/nan/YORKAVENUE/EAST59STREET</th>\n",
       "      <th>nan/nan/YORKAVENUE/EAST61STREET</th>\n",
       "      <th>nan/nan/YORKAVENUE/EAST63STREET</th>\n",
       "      <th>nan/nan/YORKAVENUE/EAST64STREET</th>\n",
       "      <th>nan/nan/YORKAVENUE/FDRDRIVE</th>\n",
       "      <th>nan/nan/YORKSTREET/JAYSTREET</th>\n",
       "      <th>nan/nan/ZEREGAAVENUE/BRUCKNERBOULEVARD</th>\n",
       "      <th>nan/nan/nan/nan</th>\n",
       "    </tr>\n",
       "    <tr>\n",
       "      <th>Created Date</th>\n",
       "      <th></th>\n",
       "      <th></th>\n",
       "      <th></th>\n",
       "      <th></th>\n",
       "      <th></th>\n",
       "      <th></th>\n",
       "      <th></th>\n",
       "      <th></th>\n",
       "      <th></th>\n",
       "      <th></th>\n",
       "      <th></th>\n",
       "      <th></th>\n",
       "      <th></th>\n",
       "      <th></th>\n",
       "      <th></th>\n",
       "      <th></th>\n",
       "      <th></th>\n",
       "      <th></th>\n",
       "      <th></th>\n",
       "      <th></th>\n",
       "      <th></th>\n",
       "    </tr>\n",
       "  </thead>\n",
       "  <tbody>\n",
       "    <tr>\n",
       "      <th>2010-01-01 15:33:45</th>\n",
       "      <td>0.0</td>\n",
       "      <td>0.0</td>\n",
       "      <td>0.0</td>\n",
       "      <td>0.0</td>\n",
       "      <td>0.0</td>\n",
       "      <td>0.0</td>\n",
       "      <td>0.0</td>\n",
       "      <td>0.0</td>\n",
       "      <td>0.0</td>\n",
       "      <td>0.0</td>\n",
       "      <td>...</td>\n",
       "      <td>0.0</td>\n",
       "      <td>0.0</td>\n",
       "      <td>0.0</td>\n",
       "      <td>0.0</td>\n",
       "      <td>0.0</td>\n",
       "      <td>0.0</td>\n",
       "      <td>0.0</td>\n",
       "      <td>0.0</td>\n",
       "      <td>0.0</td>\n",
       "      <td>0.0</td>\n",
       "    </tr>\n",
       "    <tr>\n",
       "      <th>2010-01-01 23:18:34</th>\n",
       "      <td>0.0</td>\n",
       "      <td>0.0</td>\n",
       "      <td>0.0</td>\n",
       "      <td>0.0</td>\n",
       "      <td>0.0</td>\n",
       "      <td>0.0</td>\n",
       "      <td>0.0</td>\n",
       "      <td>0.0</td>\n",
       "      <td>0.0</td>\n",
       "      <td>0.0</td>\n",
       "      <td>...</td>\n",
       "      <td>0.0</td>\n",
       "      <td>0.0</td>\n",
       "      <td>0.0</td>\n",
       "      <td>0.0</td>\n",
       "      <td>0.0</td>\n",
       "      <td>0.0</td>\n",
       "      <td>0.0</td>\n",
       "      <td>0.0</td>\n",
       "      <td>0.0</td>\n",
       "      <td>0.0</td>\n",
       "    </tr>\n",
       "    <tr>\n",
       "      <th>2010-01-02 16:10:55</th>\n",
       "      <td>0.0</td>\n",
       "      <td>0.0</td>\n",
       "      <td>0.0</td>\n",
       "      <td>0.0</td>\n",
       "      <td>0.0</td>\n",
       "      <td>0.0</td>\n",
       "      <td>0.0</td>\n",
       "      <td>0.0</td>\n",
       "      <td>0.0</td>\n",
       "      <td>0.0</td>\n",
       "      <td>...</td>\n",
       "      <td>0.0</td>\n",
       "      <td>0.0</td>\n",
       "      <td>0.0</td>\n",
       "      <td>0.0</td>\n",
       "      <td>0.0</td>\n",
       "      <td>0.0</td>\n",
       "      <td>0.0</td>\n",
       "      <td>0.0</td>\n",
       "      <td>0.0</td>\n",
       "      <td>0.0</td>\n",
       "    </tr>\n",
       "    <tr>\n",
       "      <th>2010-01-02 18:27:44</th>\n",
       "      <td>0.0</td>\n",
       "      <td>0.0</td>\n",
       "      <td>0.0</td>\n",
       "      <td>0.0</td>\n",
       "      <td>0.0</td>\n",
       "      <td>0.0</td>\n",
       "      <td>0.0</td>\n",
       "      <td>0.0</td>\n",
       "      <td>0.0</td>\n",
       "      <td>0.0</td>\n",
       "      <td>...</td>\n",
       "      <td>0.0</td>\n",
       "      <td>0.0</td>\n",
       "      <td>0.0</td>\n",
       "      <td>0.0</td>\n",
       "      <td>0.0</td>\n",
       "      <td>0.0</td>\n",
       "      <td>0.0</td>\n",
       "      <td>0.0</td>\n",
       "      <td>0.0</td>\n",
       "      <td>0.0</td>\n",
       "    </tr>\n",
       "    <tr>\n",
       "      <th>2010-01-03 10:11:20</th>\n",
       "      <td>0.0</td>\n",
       "      <td>0.0</td>\n",
       "      <td>0.0</td>\n",
       "      <td>0.0</td>\n",
       "      <td>0.0</td>\n",
       "      <td>0.0</td>\n",
       "      <td>0.0</td>\n",
       "      <td>0.0</td>\n",
       "      <td>0.0</td>\n",
       "      <td>0.0</td>\n",
       "      <td>...</td>\n",
       "      <td>0.0</td>\n",
       "      <td>0.0</td>\n",
       "      <td>0.0</td>\n",
       "      <td>0.0</td>\n",
       "      <td>0.0</td>\n",
       "      <td>0.0</td>\n",
       "      <td>0.0</td>\n",
       "      <td>0.0</td>\n",
       "      <td>0.0</td>\n",
       "      <td>0.0</td>\n",
       "    </tr>\n",
       "  </tbody>\n",
       "</table>\n",
       "<p>5 rows × 4484 columns</p>\n",
       "</div>"
      ],
      "text/plain": [
       "streetlevel_id       100AVENUE/104AVENUE/nan/nan  101AVENUE/103AVENUE/nan/nan  \\\n",
       "Created Date                                                                    \n",
       "2010-01-01 15:33:45                          0.0                          0.0   \n",
       "2010-01-01 23:18:34                          0.0                          0.0   \n",
       "2010-01-02 16:10:55                          0.0                          0.0   \n",
       "2010-01-02 18:27:44                          0.0                          0.0   \n",
       "2010-01-03 10:11:20                          0.0                          0.0   \n",
       "\n",
       "streetlevel_id       101STREET/102STREET/nan/nan  102AVENUE/102ROAD/nan/nan  \\\n",
       "Created Date                                                                  \n",
       "2010-01-01 15:33:45                          0.0                        0.0   \n",
       "2010-01-01 23:18:34                          0.0                        0.0   \n",
       "2010-01-02 16:10:55                          0.0                        0.0   \n",
       "2010-01-02 18:27:44                          0.0                        0.0   \n",
       "2010-01-03 10:11:20                          0.0                        0.0   \n",
       "\n",
       "streetlevel_id       103AVENUE/104AVENUE/nan/nan  \\\n",
       "Created Date                                       \n",
       "2010-01-01 15:33:45                          0.0   \n",
       "2010-01-01 23:18:34                          0.0   \n",
       "2010-01-02 16:10:55                          0.0   \n",
       "2010-01-02 18:27:44                          0.0   \n",
       "2010-01-03 10:11:20                          0.0   \n",
       "\n",
       "streetlevel_id       103AVENUE/LIBERTYAVENUE/nan/nan  \\\n",
       "Created Date                                           \n",
       "2010-01-01 15:33:45                              0.0   \n",
       "2010-01-01 23:18:34                              0.0   \n",
       "2010-01-02 16:10:55                              0.0   \n",
       "2010-01-02 18:27:44                              0.0   \n",
       "2010-01-03 10:11:20                              0.0   \n",
       "\n",
       "streetlevel_id       103STREET/104STREET/nan/nan  103STREET/133AVENUE/nan/nan  \\\n",
       "Created Date                                                                    \n",
       "2010-01-01 15:33:45                          0.0                          0.0   \n",
       "2010-01-01 23:18:34                          0.0                          0.0   \n",
       "2010-01-02 16:10:55                          0.0                          0.0   \n",
       "2010-01-02 18:27:44                          0.0                          0.0   \n",
       "2010-01-03 10:11:20                          0.0                          0.0   \n",
       "\n",
       "streetlevel_id       104ROAD/HOLLISAVENUE/nan/nan  \\\n",
       "Created Date                                        \n",
       "2010-01-01 15:33:45                           0.0   \n",
       "2010-01-01 23:18:34                           0.0   \n",
       "2010-01-02 16:10:55                           0.0   \n",
       "2010-01-02 18:27:44                           0.0   \n",
       "2010-01-03 10:11:20                           0.0   \n",
       "\n",
       "streetlevel_id       104STREET/106STREET/nan/nan       ...         \\\n",
       "Created Date                                           ...          \n",
       "2010-01-01 15:33:45                          0.0       ...          \n",
       "2010-01-01 23:18:34                          0.0       ...          \n",
       "2010-01-02 16:10:55                          0.0       ...          \n",
       "2010-01-02 18:27:44                          0.0       ...          \n",
       "2010-01-03 10:11:20                          0.0       ...          \n",
       "\n",
       "streetlevel_id       nan/nan/YELLOWSTONEBOULEVARD/65AVENUE  \\\n",
       "Created Date                                                 \n",
       "2010-01-01 15:33:45                                    0.0   \n",
       "2010-01-01 23:18:34                                    0.0   \n",
       "2010-01-02 16:10:55                                    0.0   \n",
       "2010-01-02 18:27:44                                    0.0   \n",
       "2010-01-03 10:11:20                                    0.0   \n",
       "\n",
       "streetlevel_id       nan/nan/YELLOWSTONEBOULEVARD/68AVENUE  \\\n",
       "Created Date                                                 \n",
       "2010-01-01 15:33:45                                    0.0   \n",
       "2010-01-01 23:18:34                                    0.0   \n",
       "2010-01-02 16:10:55                                    0.0   \n",
       "2010-01-02 18:27:44                                    0.0   \n",
       "2010-01-03 10:11:20                                    0.0   \n",
       "\n",
       "streetlevel_id       nan/nan/YORKAVENUE/EAST59STREET  \\\n",
       "Created Date                                           \n",
       "2010-01-01 15:33:45                              0.0   \n",
       "2010-01-01 23:18:34                              0.0   \n",
       "2010-01-02 16:10:55                              0.0   \n",
       "2010-01-02 18:27:44                              0.0   \n",
       "2010-01-03 10:11:20                              0.0   \n",
       "\n",
       "streetlevel_id       nan/nan/YORKAVENUE/EAST61STREET  \\\n",
       "Created Date                                           \n",
       "2010-01-01 15:33:45                              0.0   \n",
       "2010-01-01 23:18:34                              0.0   \n",
       "2010-01-02 16:10:55                              0.0   \n",
       "2010-01-02 18:27:44                              0.0   \n",
       "2010-01-03 10:11:20                              0.0   \n",
       "\n",
       "streetlevel_id       nan/nan/YORKAVENUE/EAST63STREET  \\\n",
       "Created Date                                           \n",
       "2010-01-01 15:33:45                              0.0   \n",
       "2010-01-01 23:18:34                              0.0   \n",
       "2010-01-02 16:10:55                              0.0   \n",
       "2010-01-02 18:27:44                              0.0   \n",
       "2010-01-03 10:11:20                              0.0   \n",
       "\n",
       "streetlevel_id       nan/nan/YORKAVENUE/EAST64STREET  \\\n",
       "Created Date                                           \n",
       "2010-01-01 15:33:45                              0.0   \n",
       "2010-01-01 23:18:34                              0.0   \n",
       "2010-01-02 16:10:55                              0.0   \n",
       "2010-01-02 18:27:44                              0.0   \n",
       "2010-01-03 10:11:20                              0.0   \n",
       "\n",
       "streetlevel_id       nan/nan/YORKAVENUE/FDRDRIVE  \\\n",
       "Created Date                                       \n",
       "2010-01-01 15:33:45                          0.0   \n",
       "2010-01-01 23:18:34                          0.0   \n",
       "2010-01-02 16:10:55                          0.0   \n",
       "2010-01-02 18:27:44                          0.0   \n",
       "2010-01-03 10:11:20                          0.0   \n",
       "\n",
       "streetlevel_id       nan/nan/YORKSTREET/JAYSTREET  \\\n",
       "Created Date                                        \n",
       "2010-01-01 15:33:45                           0.0   \n",
       "2010-01-01 23:18:34                           0.0   \n",
       "2010-01-02 16:10:55                           0.0   \n",
       "2010-01-02 18:27:44                           0.0   \n",
       "2010-01-03 10:11:20                           0.0   \n",
       "\n",
       "streetlevel_id       nan/nan/ZEREGAAVENUE/BRUCKNERBOULEVARD  nan/nan/nan/nan  \n",
       "Created Date                                                                  \n",
       "2010-01-01 15:33:45                                     0.0              0.0  \n",
       "2010-01-01 23:18:34                                     0.0              0.0  \n",
       "2010-01-02 16:10:55                                     0.0              0.0  \n",
       "2010-01-02 18:27:44                                     0.0              0.0  \n",
       "2010-01-03 10:11:20                                     0.0              0.0  \n",
       "\n",
       "[5 rows x 4484 columns]"
      ]
     },
     "execution_count": 33,
     "metadata": {},
     "output_type": "execute_result"
    }
   ],
   "source": [
    "b.head(5)"
   ]
  },
  {
   "cell_type": "code",
   "execution_count": 37,
   "metadata": {
    "collapsed": false
   },
   "outputs": [],
   "source": [
    "clean = b.drop(\"nan/nan/nan/nan\",axis=1)"
   ]
  },
  {
   "cell_type": "code",
   "execution_count": 40,
   "metadata": {
    "collapsed": false
   },
   "outputs": [],
   "source": [
    "clean.to_pickle(\"street_level_clean.pickle\")"
   ]
  },
  {
   "cell_type": "code",
   "execution_count": null,
   "metadata": {
    "collapsed": true
   },
   "outputs": [],
   "source": []
  }
 ],
 "metadata": {
  "kernelspec": {
   "display_name": "PUI2016_Python3",
   "language": "python",
   "name": "pui2016_python3"
  },
  "language_info": {
   "codemirror_mode": {
    "name": "ipython",
    "version": 3
   },
   "file_extension": ".py",
   "mimetype": "text/x-python",
   "name": "python",
   "nbconvert_exporter": "python",
   "pygments_lexer": "ipython3",
   "version": "3.5.2"
  }
 },
 "nbformat": 4,
 "nbformat_minor": 0
}
